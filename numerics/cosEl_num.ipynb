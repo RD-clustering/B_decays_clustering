{
 "cells": [
  {
   "cell_type": "markdown",
   "metadata": {},
   "source": [
    "# Numerics for $\\frac{d\\Gamma_5}{dcos(\\theta_{\\ell})}$\n",
    "\n",
    "from formula (51) in [1602.07671](https://arxiv.org/pdf/1602.07671.pdf)."
   ]
  },
  {
   "cell_type": "code",
   "execution_count": null,
   "metadata": {},
   "outputs": [],
   "source": [
    "# Magic\n",
    "%matplotlib inline\n",
    "# Reload modules whenever they change\n",
    "%load_ext autoreload\n",
    "%autoreload 2\n",
    "\n",
    "# Make bclustering package available even without installation\n",
    "import sys\n",
    "sys.path = [\"../../\"] + sys.path"
   ]
  },
  {
   "cell_type": "code",
   "execution_count": null,
   "metadata": {},
   "outputs": [],
   "source": [
    "import numpy as np\n",
    "import flavio\n",
    "import functools"
   ]
  },
  {
   "cell_type": "code",
   "execution_count": null,
   "metadata": {},
   "outputs": [],
   "source": [
    "import bclustering.physics.models.bdlnu.distribution as bdlnu"
   ]
  },
  {
   "cell_type": "markdown",
   "metadata": {},
   "source": [
    "## Scanning\n",
    "\n",
    "### Setting it up"
   ]
  },
  {
   "cell_type": "code",
   "execution_count": null,
   "metadata": {
    "scrolled": false
   },
   "outputs": [],
   "source": [
    "from bclustering.scan import Scanner"
   ]
  },
  {
   "cell_type": "code",
   "execution_count": null,
   "metadata": {},
   "outputs": [],
   "source": [
    "scosEl = Scanner()"
   ]
  },
  {
   "cell_type": "code",
   "execution_count": null,
   "metadata": {},
   "outputs": [],
   "source": [
    "# scosEl.set_dfunction(\n",
    "#     bdlnu.dGcthetal,\n",
    "#     binning=np.linspace(bdlnu.cthetalmin, bdlnu.cthetalmax, 3),\n",
    "#     normalize=True\n",
    "# )\n",
    "scosEl.set_dfunction(\n",
    "    bdlnu.dGcthetal,\n",
    "    binning=np.linspace(0.2, 0.5, 3),\n",
    "    normalize=False\n",
    ")"
   ]
  },
  {
   "cell_type": "code",
   "execution_count": null,
   "metadata": {},
   "outputs": [],
   "source": [
    "scosEl.set_wpoints_equidist(\n",
    "    {\n",
    "        \"CVL_bctaunutau\": (-0.1, 0.1, 4),\n",
    "        \"CVR_bctaunutau\": (-0.1, 0.1, 4),\n",
    "        \"CSL_bctaunutau\": (-0.1, 0.1, 4),\n",
    "        \"CSR_bctaunutau\": (-0.1, 0.1, 4),\n",
    "        \"CT_bctaunutau\": (-0.1, 0.1, 4),\n",
    "    },\n",
    "    scale=5,\n",
    "    eft='WET',\n",
    "    basis='flavio'\n",
    ")"
   ]
  },
  {
   "cell_type": "code",
   "execution_count": null,
   "metadata": {
    "scrolled": true
   },
   "outputs": [],
   "source": [
    "scosEl.run()"
   ]
  },
  {
   "cell_type": "code",
   "execution_count": null,
   "metadata": {
    "scrolled": false
   },
   "outputs": [],
   "source": [
    "scosEl.df.head()"
   ]
  },
  {
   "cell_type": "code",
   "execution_count": null,
   "metadata": {},
   "outputs": [],
   "source": [
    "scosEl.write(directory=\"output/scan\", name=\"cosEl_test\", overwrite=\"overwrite\")"
   ]
  },
  {
   "cell_type": "markdown",
   "metadata": {},
   "source": [
    "## Clustering"
   ]
  },
  {
   "cell_type": "markdown",
   "metadata": {},
   "source": [
    "### Setting it up"
   ]
  },
  {
   "cell_type": "code",
   "execution_count": null,
   "metadata": {},
   "outputs": [],
   "source": [
    "from bclustering.cluster import HierarchyCluster"
   ]
  },
  {
   "cell_type": "code",
   "execution_count": null,
   "metadata": {},
   "outputs": [],
   "source": [
    "c = HierarchyCluster(\"output/scan\", \"cosEl_test\")"
   ]
  },
  {
   "cell_type": "markdown",
   "metadata": {},
   "source": [
    "This has loaded the results from the previous step. The data is again the same dataframe as before:"
   ]
  },
  {
   "cell_type": "code",
   "execution_count": null,
   "metadata": {},
   "outputs": [],
   "source": [
    "c.df.head()"
   ]
  },
  {
   "cell_type": "markdown",
   "metadata": {},
   "source": [
    "Similarly, the cluster object also contains the previous metadata:"
   ]
  },
  {
   "cell_type": "markdown",
   "metadata": {},
   "source": [
    "### Running it "
   ]
  },
  {
   "cell_type": "code",
   "execution_count": null,
   "metadata": {},
   "outputs": [],
   "source": [
    "c.build_hierarchy()"
   ]
  },
  {
   "cell_type": "code",
   "execution_count": null,
   "metadata": {},
   "outputs": [],
   "source": [
    "c.cluster(max_d=0.01)"
   ]
  },
  {
   "cell_type": "code",
   "execution_count": null,
   "metadata": {
    "scrolled": false
   },
   "outputs": [],
   "source": [
    "c.df.head()"
   ]
  },
  {
   "cell_type": "markdown",
   "metadata": {},
   "source": [
    "# plotting"
   ]
  },
  {
   "cell_type": "code",
   "execution_count": null,
   "metadata": {},
   "outputs": [],
   "source": [
    "import pandas as pd\n",
    "import os.path\n",
    "import matplotlib.pyplot as plt\n",
    "from mpl_toolkits.mplot3d import Axes3D\n",
    "\n",
    "\n",
    "from bclustering.plots import ClusterPlot"
   ]
  },
  {
   "cell_type": "code",
   "execution_count": null,
   "metadata": {},
   "outputs": [],
   "source": [
    "df = c.df"
   ]
  },
  {
   "cell_type": "code",
   "execution_count": null,
   "metadata": {},
   "outputs": [],
   "source": [
    "clusters = list(df['cluster'].unique())\n",
    "colors = [\"red\", \"green\", \"blue\", \"pink\"]\n",
    "markers = [\"o\", \"v\", \"^\"]"
   ]
  },
  {
   "cell_type": "code",
   "execution_count": null,
   "metadata": {},
   "outputs": [],
   "source": [
    "ax = plt.figure().gca(projection='3d')\n",
    "ax.set_xlabel('CVL_bctaunutau')\n",
    "ax.set_ylabel('sl')\n",
    "ax.set_zlabel('CT_bctaunutau')\n",
    "\n",
    "for index, cluster in enumerate(clusters):\n",
    "    df_cluster = df[df['cluster'] == cluster]\n",
    "    ax.scatter(\n",
    "        df_cluster['CVL_bctaunutau'], \n",
    "        df_cluster['CSL_bctaunutau'], \n",
    "        df_cluster['CT_bctaunutau'], \n",
    "        color=colors[cluster % len(colors)], \n",
    "        marker=markers[cluster % len(markers)],\n",
    "        label=cluster\n",
    "    )\n",
    "\n",
    "plt.legend(loc='upper left');\n",
    "plt.show()"
   ]
  },
  {
   "cell_type": "code",
   "execution_count": null,
   "metadata": {},
   "outputs": [],
   "source": [
    "fig, ax = plt.subplots()\n",
    "ax.set_xlabel('CVL_bctaunutau')\n",
    "ax.set_ylabel('CSL_bctaunutau')\n",
    "\n",
    "# fix remaining Wilson coefficients\n",
    "t_value_index = 1\n",
    "t_value = df['CT_bctaunutau'].unique()[t_value_index]\n",
    "\n",
    "for index, cluster in enumerate(clusters):\n",
    "    df_cluster = df[df['cluster'] == cluster]\n",
    "    df_cluster = df_cluster[df_cluster['CT_bctaunutau'] == t_value]\n",
    "    ax.scatter(\n",
    "        df_cluster['CVL_bctaunutau'], \n",
    "        df_cluster['CSL_bctaunutau'], \n",
    "        color=colors[cluster % len(colors)], \n",
    "        marker=markers[cluster % len(markers)],\n",
    "        label=cluster\n",
    "    )\n",
    "\n",
    "plt.legend(bbox_to_anchor=(1.2, 1.0));\n",
    "plt.show()"
   ]
  },
  {
   "cell_type": "markdown",
   "metadata": {},
   "source": [
    "# plot_clusters"
   ]
  },
  {
   "cell_type": "code",
   "execution_count": null,
   "metadata": {},
   "outputs": [],
   "source": [
    "cp = ClusterPlot(df)"
   ]
  },
  {
   "cell_type": "code",
   "execution_count": null,
   "metadata": {},
   "outputs": [],
   "source": [
    "cp.scatter(['CVL_bctaunutau', 'CSL_bctaunutau', 'CT_bctaunutau'])"
   ]
  },
  {
   "cell_type": "code",
   "execution_count": null,
   "metadata": {},
   "outputs": [],
   "source": [
    "cp.scatter(['CVL_bctaunutau', 'CSL_bctaunutau', 'CT_bctaunutau'], clusters=[1, 5])"
   ]
  },
  {
   "cell_type": "code",
   "execution_count": null,
   "metadata": {},
   "outputs": [],
   "source": [
    "cp.scatter(['CVL_bctaunutau', 'CSL_bctaunutau'])"
   ]
  },
  {
   "cell_type": "code",
   "execution_count": null,
   "metadata": {},
   "outputs": [],
   "source": [
    "cp.scatter(['CVL_bctaunutau', 'CSL_bctaunutau'], clusters=[1, 2])"
   ]
  },
  {
   "cell_type": "code",
   "execution_count": null,
   "metadata": {},
   "outputs": [],
   "source": [
    "cp.fill(['CVL_bctaunutau', 'CSL_bctaunutau'])"
   ]
  },
  {
   "cell_type": "code",
   "execution_count": null,
   "metadata": {},
   "outputs": [],
   "source": [
    "cp.max_subplots"
   ]
  },
  {
   "cell_type": "code",
   "execution_count": null,
   "metadata": {},
   "outputs": [],
   "source": [
    "cp.max_subplots = 3"
   ]
  },
  {
   "cell_type": "code",
   "execution_count": null,
   "metadata": {},
   "outputs": [],
   "source": [
    "cp.scatter(['CVL_bctaunutau', 'CSL_bctaunutau'])"
   ]
  },
  {
   "cell_type": "code",
   "execution_count": null,
   "metadata": {},
   "outputs": [],
   "source": [
    "cp.fill(['CVL_bctaunutau', 'CSL_bctaunutau'])"
   ]
  },
  {
   "cell_type": "code",
   "execution_count": null,
   "metadata": {},
   "outputs": [],
   "source": []
  }
 ],
 "metadata": {
  "kernelspec": {
   "display_name": "Python 3 (Belle2)",
   "language": "python",
   "name": "python3"
  },
  "language_info": {
   "codemirror_mode": {
    "name": "ipython",
    "version": 3
   },
   "file_extension": ".py",
   "mimetype": "text/x-python",
   "name": "python",
   "nbconvert_exporter": "python",
   "pygments_lexer": "ipython3",
   "version": "3.6.6"
  }
 },
 "nbformat": 4,
 "nbformat_minor": 1
}
