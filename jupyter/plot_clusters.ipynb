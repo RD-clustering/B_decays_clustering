{
 "cells": [
  {
   "cell_type": "markdown",
   "metadata": {},
   "source": [
    "# Plot clusters"
   ]
  },
  {
   "cell_type": "code",
   "execution_count": 3,
   "metadata": {
    "collapsed": true
   },
   "outputs": [],
   "source": [
    "import pandas as pd\n",
    "import matplotlib.pyplot as plt\n",
    "from mpl_toolkits.mplot3d import Axes3D\n",
    "\n",
    "%matplotlib inline\n",
    "\n",
    "import sys\n",
    "sys.path.append('..')\n",
    "\n",
    "from modules.plots import plot_clusters"
   ]
  },
  {
   "cell_type": "code",
   "execution_count": 18,
   "metadata": {},
   "outputs": [],
   "source": [
    "df = pd.read_csv(\"../output/cluster/long_g10_n30_data.csv\")"
   ]
  },
  {
   "cell_type": "markdown",
   "metadata": {},
   "source": [
    "## Manual Plotting"
   ]
  },
  {
   "cell_type": "code",
   "execution_count": 5,
   "metadata": {
    "collapsed": true
   },
   "outputs": [],
   "source": [
    "clusters = list(df['cluster'].unique())\n",
    "colors = [\"red\", \"green\", \"blue\", \"pink\"]\n",
    "markers = [\"o\", \"v\", \"^\"]"
   ]
  },
  {
   "cell_type": "markdown",
   "metadata": {},
   "source": [
    "### Manual 3d Plot"
   ]
  },
  {
   "cell_type": "code",
   "execution_count": 8,
   "metadata": {},
   "outputs": [],
   "source": [
    "ax = plt.figure().gca(projection='3d')\n",
    "ax.set_xlabel('l')\n",
    "ax.set_ylabel('sl')\n",
    "ax.set_zlabel('t')\n",
    "\n",
    "for index, cluster in enumerate(clusters):\n",
    "    df_cluster = df[df['cluster'] == cluster]\n",
    "    ax.scatter(\n",
    "        df_cluster['l'], \n",
    "        df_cluster['sl'], \n",
    "        df_cluster['t'], \n",
    "        color=colors[cluster % len(colors)], \n",
    "        marker=markers[cluster % len(markers)],\n",
    "        label=cluster\n",
    "    )\n",
    "\n",
    "plt.legend(loc='upper left');\n",
    "plt.show()"
   ]
  },
  {
   "cell_type": "markdown",
   "metadata": {},
   "source": [
    "### Manual 2d Plot"
   ]
  },
  {
   "cell_type": "code",
   "execution_count": 16,
   "metadata": {},
   "outputs": [],
   "source": [
    "fig, ax = plt.subplots()\n",
    "ax.set_xlabel('l')\n",
    "ax.set_ylabel('sl')\n",
    "\n",
    "# fix remaining Wilson coefficients\n",
    "t_value_index = 5\n",
    "t_value = df['t'].unique()[5]\n",
    "\n",
    "for index, cluster in enumerate(clusters):\n",
    "    df_cluster = df[df['cluster'] == cluster]\n",
    "    df_cluster = df_cluster[df_cluster['t'] == t_value]\n",
    "    ax.scatter(\n",
    "        df_cluster['l'], \n",
    "        df_cluster['sl'], \n",
    "        color=colors[cluster % len(colors)], \n",
    "        marker=markers[cluster % len(markers)],\n",
    "        label=cluster\n",
    "    )\n",
    "\n",
    "plt.legend(bbox_to_anchor=(1.2, 1.0));\n",
    "plt.show()"
   ]
  },
  {
   "cell_type": "markdown",
   "metadata": {},
   "source": [
    "## Using ``plot_clusters``"
   ]
  },
  {
   "cell_type": "code",
   "execution_count": 19,
   "metadata": {},
   "outputs": [],
   "source": [
    "plot_clusters(df, ['l', 'sl', 't'])"
   ]
  },
  {
   "cell_type": "markdown",
   "metadata": {},
   "source": [
    "The list is the list of the columns on the axes. \n",
    "Changing the order of the columns will turn around the cube. "
   ]
  },
  {
   "cell_type": "code",
   "execution_count": null,
   "metadata": {
    "collapsed": true
   },
   "outputs": [],
   "source": [
    "plot_clusters(df, ['sl', 'l', 't'])"
   ]
  },
  {
   "cell_type": "markdown",
   "metadata": {},
   "source": [
    "If it is still not easy to get an overview, use the ``clusters`` argument to limit ourselves to certain clusters."
   ]
  },
  {
   "cell_type": "code",
   "execution_count": null,
   "metadata": {
    "collapsed": true,
    "scrolled": false
   },
   "outputs": [],
   "source": [
    "plot_clusters(df, ['sl', 'l', 't'], clusters=[1,2])"
   ]
  },
  {
   "cell_type": "markdown",
   "metadata": {},
   "source": [
    "If only two columns are given, several cuts will be presented (up to 16 by default):"
   ]
  },
  {
   "cell_type": "code",
   "execution_count": null,
   "metadata": {
    "collapsed": true
   },
   "outputs": [],
   "source": [
    "plot_clusters(df, ['sl', 'l'])"
   ]
  },
  {
   "cell_type": "markdown",
   "metadata": {},
   "source": [
    "Again, we can also limit ourselves on the clusters that we want to display:"
   ]
  },
  {
   "cell_type": "code",
   "execution_count": null,
   "metadata": {
    "collapsed": true,
    "scrolled": false
   },
   "outputs": [],
   "source": [
    "plot_clusters(df, ['sl', 'l'], clusters=[1, 2], max_subplots=4)"
   ]
  }
 ],
 "metadata": {
  "kernelspec": {
   "display_name": "Python 3",
   "language": "python",
   "name": "python3"
  },
  "language_info": {
   "codemirror_mode": {
    "name": "ipython",
    "version": 3
   },
   "file_extension": ".py",
   "mimetype": "text/x-python",
   "name": "python",
   "nbconvert_exporter": "python",
   "pygments_lexer": "ipython3",
   "version": "3.5.2"
  }
 },
 "nbformat": 4,
 "nbformat_minor": 2
}
