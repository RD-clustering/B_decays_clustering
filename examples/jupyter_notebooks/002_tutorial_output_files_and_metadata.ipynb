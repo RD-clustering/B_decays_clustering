{
 "cells": [
  {
   "cell_type": "markdown",
   "metadata": {},
   "source": [
    "# Tutorial 2: Output files and metadata\n",
    "\n",
    "Here, we will quickly look at the output files of the ``Scanner`` and ``Cluster`` class.\n",
    "\n",
    "**NOTE: This tutorial requires that the previous tutorial was already run**!\n",
    "\n",
    "**NOTE FOR CONTRIBUTORS: Always clear all output before commiting (``Cell`` > ``All Output`` > ``Clear``)**!"
   ]
  },
  {
   "cell_type": "code",
   "execution_count": 1,
   "metadata": {},
   "outputs": [],
   "source": [
    "# Magic\n",
    "%matplotlib inline\n",
    "# Reload modules whenever they change\n",
    "%load_ext autoreload\n",
    "%autoreload 2\n",
    "\n",
    "# Make bclustering package available even without installation\n",
    "import sys\n",
    "sys.path = [\"../../\"] + sys.path"
   ]
  },
  {
   "cell_type": "code",
   "execution_count": 6,
   "metadata": {},
   "outputs": [],
   "source": [
    "import pandas\n",
    "import json"
   ]
  },
  {
   "cell_type": "markdown",
   "metadata": {},
   "source": [
    "## Scanner class\n",
    "\n",
    "The call ``s.write(directory=\"output/cluster\", name=\"tutorial_basics\")`` of the last tutorial created two files: \n",
    "* ``output/cluster/tutorial_basics_output_data.csv`` contains the distributions for all points in wilson space\n",
    "* ``output/cluster/tutorial_basics_metadata.json`` contains additional metadata about the whole "
   ]
  },
  {
   "cell_type": "markdown",
   "metadata": {},
   "source": [
    "### Loading the CSV data"
   ]
  },
  {
   "cell_type": "markdown",
   "metadata": {},
   "source": [
    "This is what the output file for the data looks like:"
   ]
  },
  {
   "cell_type": "code",
   "execution_count": 19,
   "metadata": {},
   "outputs": [
    {
     "name": "stdout",
     "output_type": "stream",
     "text": [
      "index,CVL_bctaunutau,CSL_bctaunutau,CT_bctaunutau,bin0,bin1,bin2,bin3,bin4,bin5,bin6,bin7,bin8,cluster,bpoint\r\n",
      "0,-1.0,-1.0,-1.0,0.019218498441031788,0.07580410813701566,0.1246708359227077,0.15496778068703781,0.16685928655458301,0.16163110182874887,0.14038208485371928,0.10414009446322449,0.05232620911193127,0,False\r\n",
      "1,-1.0,-1.0,-0.7777777777777778,0.019773890725310134,0.07705748254308728,0.12562499198025914,0.15532540359510516,0.16672624194488106,0.16117275308314305,0.13968223094664492,0.10321663356733266,0.051420371614236654,0,False\r\n",
      "2,-1.0,-1.0,-0.5555555555555556,0.02091069886913175,0.07983716708445192,0.1279863021131987,0.15635940328668596,0.16642064419685929,0.15985881013134118,0.13775838580963498,0.10108864309214295,0.04977994541655343,0,False\r\n",
      "3,-1.0,-1.0,-0.33333333333333337,0.02268079097294613,0.08432914872072125,0.13197526716773222,0.158200364146124,0.16591936014961814,0.1575255411720375,0.13438706988620103,0.09759335472112815,0.04738910306349156,0,False\r\n",
      "4,-1.0,-1.0,-0.11111111111111116,0.024850857399513888,0.08997611888873913,0.13713237716142246,0.1606546467870668,0.16528306215511585,0.15441950251808842,0.12993290397319535,0.0931528777054382,0.04459765341141998,1,False\r\n",
      "5,-1.0,-1.0,0.11111111111111116,0.026937799900022503,0.0955296433727838,0.14232612299405764,0.16318813139134375,0.16465205253477624,0.15121691479861113,0.12536753929680808,0.08874610085542642,0.042035694856170584,1,False\r\n",
      "6,-1.0,-1.0,0.33333333333333326,0.028517276000721892,0.09984240053252781,0.1464659275291634,0.16526014468661285,0.1641574492511852,0.14860073901388623,0.12166080536922211,0.08528916987019754,0.04020608774648307,2,False\r\n",
      "7,-1.0,-1.0,0.5555555555555554,0.029461115261642582,0.10252159828801952,0.14913423368683362,0.16664217490403144,0.1638460401189625,0.14685839231392225,0.11921172048003283,0.08311014497035274,0.039214579976202514,2,False\r\n",
      "8,-1.0,-1.0,0.7777777777777777,0.02987920109601206,0.10381290465390547,0.15051541669817906,0.1674017204516044,0.16369186131560645,0.1459032433973609,0.11788711829054507,0.08202888537002787,0.03887964872675875,2,False\r\n"
     ]
    }
   ],
   "source": [
    "!head output/cluster/tutorial_basics_data.csv"
   ]
  },
  {
   "cell_type": "markdown",
   "metadata": {},
   "source": [
    "If you want to directly load the dataframe from the output file, you can do so easily:"
   ]
  },
  {
   "cell_type": "code",
   "execution_count": 15,
   "metadata": {},
   "outputs": [],
   "source": [
    "df = pandas.read_csv(\"output/cluster/tutorial_basics_data.csv\")\n",
    "df.set_index(\"index\", inplace=True)"
   ]
  },
  {
   "cell_type": "code",
   "execution_count": 16,
   "metadata": {},
   "outputs": [
    {
     "data": {
      "text/html": [
       "<div>\n",
       "<style scoped>\n",
       "    .dataframe tbody tr th:only-of-type {\n",
       "        vertical-align: middle;\n",
       "    }\n",
       "\n",
       "    .dataframe tbody tr th {\n",
       "        vertical-align: top;\n",
       "    }\n",
       "\n",
       "    .dataframe thead th {\n",
       "        text-align: right;\n",
       "    }\n",
       "</style>\n",
       "<table border=\"1\" class=\"dataframe\">\n",
       "  <thead>\n",
       "    <tr style=\"text-align: right;\">\n",
       "      <th></th>\n",
       "      <th>CVL_bctaunutau</th>\n",
       "      <th>CSL_bctaunutau</th>\n",
       "      <th>CT_bctaunutau</th>\n",
       "      <th>bin0</th>\n",
       "      <th>bin1</th>\n",
       "      <th>bin2</th>\n",
       "      <th>bin3</th>\n",
       "      <th>bin4</th>\n",
       "      <th>bin5</th>\n",
       "      <th>bin6</th>\n",
       "      <th>bin7</th>\n",
       "      <th>bin8</th>\n",
       "      <th>cluster</th>\n",
       "      <th>bpoint</th>\n",
       "    </tr>\n",
       "    <tr>\n",
       "      <th>index</th>\n",
       "      <th></th>\n",
       "      <th></th>\n",
       "      <th></th>\n",
       "      <th></th>\n",
       "      <th></th>\n",
       "      <th></th>\n",
       "      <th></th>\n",
       "      <th></th>\n",
       "      <th></th>\n",
       "      <th></th>\n",
       "      <th></th>\n",
       "      <th></th>\n",
       "      <th></th>\n",
       "      <th></th>\n",
       "    </tr>\n",
       "  </thead>\n",
       "  <tbody>\n",
       "    <tr>\n",
       "      <th>0</th>\n",
       "      <td>-1.0</td>\n",
       "      <td>-1.0</td>\n",
       "      <td>-1.000000</td>\n",
       "      <td>0.019218</td>\n",
       "      <td>0.075804</td>\n",
       "      <td>0.124671</td>\n",
       "      <td>0.154968</td>\n",
       "      <td>0.166859</td>\n",
       "      <td>0.161631</td>\n",
       "      <td>0.140382</td>\n",
       "      <td>0.104140</td>\n",
       "      <td>0.052326</td>\n",
       "      <td>0</td>\n",
       "      <td>False</td>\n",
       "    </tr>\n",
       "    <tr>\n",
       "      <th>1</th>\n",
       "      <td>-1.0</td>\n",
       "      <td>-1.0</td>\n",
       "      <td>-0.777778</td>\n",
       "      <td>0.019774</td>\n",
       "      <td>0.077057</td>\n",
       "      <td>0.125625</td>\n",
       "      <td>0.155325</td>\n",
       "      <td>0.166726</td>\n",
       "      <td>0.161173</td>\n",
       "      <td>0.139682</td>\n",
       "      <td>0.103217</td>\n",
       "      <td>0.051420</td>\n",
       "      <td>0</td>\n",
       "      <td>False</td>\n",
       "    </tr>\n",
       "    <tr>\n",
       "      <th>2</th>\n",
       "      <td>-1.0</td>\n",
       "      <td>-1.0</td>\n",
       "      <td>-0.555556</td>\n",
       "      <td>0.020911</td>\n",
       "      <td>0.079837</td>\n",
       "      <td>0.127986</td>\n",
       "      <td>0.156359</td>\n",
       "      <td>0.166421</td>\n",
       "      <td>0.159859</td>\n",
       "      <td>0.137758</td>\n",
       "      <td>0.101089</td>\n",
       "      <td>0.049780</td>\n",
       "      <td>0</td>\n",
       "      <td>False</td>\n",
       "    </tr>\n",
       "    <tr>\n",
       "      <th>3</th>\n",
       "      <td>-1.0</td>\n",
       "      <td>-1.0</td>\n",
       "      <td>-0.333333</td>\n",
       "      <td>0.022681</td>\n",
       "      <td>0.084329</td>\n",
       "      <td>0.131975</td>\n",
       "      <td>0.158200</td>\n",
       "      <td>0.165919</td>\n",
       "      <td>0.157526</td>\n",
       "      <td>0.134387</td>\n",
       "      <td>0.097593</td>\n",
       "      <td>0.047389</td>\n",
       "      <td>0</td>\n",
       "      <td>False</td>\n",
       "    </tr>\n",
       "    <tr>\n",
       "      <th>4</th>\n",
       "      <td>-1.0</td>\n",
       "      <td>-1.0</td>\n",
       "      <td>-0.111111</td>\n",
       "      <td>0.024851</td>\n",
       "      <td>0.089976</td>\n",
       "      <td>0.137132</td>\n",
       "      <td>0.160655</td>\n",
       "      <td>0.165283</td>\n",
       "      <td>0.154420</td>\n",
       "      <td>0.129933</td>\n",
       "      <td>0.093153</td>\n",
       "      <td>0.044598</td>\n",
       "      <td>1</td>\n",
       "      <td>False</td>\n",
       "    </tr>\n",
       "  </tbody>\n",
       "</table>\n",
       "</div>"
      ],
      "text/plain": [
       "       CVL_bctaunutau  CSL_bctaunutau  CT_bctaunutau      bin0      bin1  \\\n",
       "index                                                                      \n",
       "0                -1.0            -1.0      -1.000000  0.019218  0.075804   \n",
       "1                -1.0            -1.0      -0.777778  0.019774  0.077057   \n",
       "2                -1.0            -1.0      -0.555556  0.020911  0.079837   \n",
       "3                -1.0            -1.0      -0.333333  0.022681  0.084329   \n",
       "4                -1.0            -1.0      -0.111111  0.024851  0.089976   \n",
       "\n",
       "           bin2      bin3      bin4      bin5      bin6      bin7      bin8  \\\n",
       "index                                                                         \n",
       "0      0.124671  0.154968  0.166859  0.161631  0.140382  0.104140  0.052326   \n",
       "1      0.125625  0.155325  0.166726  0.161173  0.139682  0.103217  0.051420   \n",
       "2      0.127986  0.156359  0.166421  0.159859  0.137758  0.101089  0.049780   \n",
       "3      0.131975  0.158200  0.165919  0.157526  0.134387  0.097593  0.047389   \n",
       "4      0.137132  0.160655  0.165283  0.154420  0.129933  0.093153  0.044598   \n",
       "\n",
       "       cluster  bpoint  \n",
       "index                   \n",
       "0            0   False  \n",
       "1            0   False  \n",
       "2            0   False  \n",
       "3            0   False  \n",
       "4            1   False  "
      ]
     },
     "execution_count": 16,
     "metadata": {},
     "output_type": "execute_result"
    }
   ],
   "source": [
    "df.head()"
   ]
  },
  {
   "cell_type": "markdown",
   "metadata": {},
   "source": [
    "### Loading the metadata"
   ]
  },
  {
   "cell_type": "markdown",
   "metadata": {},
   "source": [
    "The metadata contains lots of additional information. The output file uses the ``json`` format:"
   ]
  },
  {
   "cell_type": "code",
   "execution_count": 28,
   "metadata": {},
   "outputs": [
    {
     "name": "stdout",
     "output_type": "stream",
     "text": [
      "{\r\n",
      "    \"bpoint\": {\r\n",
      "        \"bpoint\": {\r\n",
      "            \"cluster_column\": {},\r\n",
      "            \"metric\": {\r\n",
      "                \"args\": [],\r\n",
      "                \"kwargs\": {}\r\n",
      "            }\r\n",
      "        }\r\n",
      "    },\r\n",
      "    \"cluster\": {\r\n",
      "        \"cluster\": {\r\n",
      "            \"cluster_args\": {\r\n",
      "                \"max_d\": 0.04\r\n",
      "            },\r\n",
      "            \"git\": {\r\n",
      "                \"branch\": \"HEAD\",\r\n",
      "                \"msg\": \"minor changes\",\r\n",
      "                \"sha\": \"409ae62cf072089977af162c52b96ff2dbaa6733\",\r\n",
      "                \"time\": \"Mon 25 Mar 2019 14:58\"\r\n",
      "            },\r\n",
      "            \"hierarchy\": {\r\n",
      "                \"method\": \"complete\",\r\n",
      "                \"optimal_ordering\": false\r\n",
      "            },\r\n",
      "            \"metric\": {\r\n",
      "                \"args\": [],\r\n",
      "                \"kwargs\": {}\r\n",
      "            },\r\n",
      "            \"n_clusters\": 4,\r\n",
      "            \"time\": \"Mon 25 Mar 2019 15:10\"\r\n",
      "        }\r\n",
      "    },\r\n",
      "    \"errors\": {\r\n",
      "        \"abs_cov\": null,\r\n",
      "        \"poisson\": false,\r\n",
      "        \"rel_cov\": null\r\n",
      "    },\r\n",
      "    \"scan\": {\r\n",
      "        \"dfunction\": {\r\n",
      "            \"doc\": null,\r\n",
      "            \"kwargs\": {},\r\n",
      "            \"name\": \"dBrdq2\",\r\n",
      "            \"nbins\": 9\r\n",
      "        },\r\n",
      "        \"git\": {\r\n",
      "            \"branch\": \"HEAD\",\r\n",
      "            \"msg\": \"minor changes\",\r\n",
      "            \"sha\": \"409ae62cf072089977af162c52b96ff2dbaa6733\",\r\n",
      "            \"time\": \"Mon 25 Mar 2019 14:58\"\r\n",
      "        },\r\n",
      "        \"time\": \"Mon 25 Mar 2019 15:09\",\r\n",
      "        \"wpoints\": {\r\n",
      "            \"basis\": \"flavio\",\r\n",
      "            \"coeffs\": [\r\n",
      "                \"CVL_bctaunutau\",\r\n",
      "                \"CSL_bctaunutau\",\r\n",
      "                \"CT_bctaunutau\"\r\n",
      "            ],\r\n",
      "            \"eft\": \"WET\",\r\n",
      "            \"ranges\": {\r\n",
      "                \"CSL_bctaunutau\": [\r\n",
      "                    -1,\r\n",
      "                    1,\r\n",
      "                    10\r\n",
      "                ],\r\n",
      "                \"CT_bctaunutau\": [\r\n",
      "                    -1,\r\n",
      "                    1,\r\n",
      "                    10\r\n",
      "                ],\r\n",
      "                \"CVL_bctaunutau\": [\r\n",
      "                    -1,\r\n",
      "                    1,\r\n",
      "                    10\r\n",
      "                ]\r\n",
      "            },\r\n",
      "            \"sampling\": \"equidistant\",\r\n",
      "            \"scale\": 5,\r\n",
      "            \"values\": {\r\n",
      "                \"CSL_bctaunutau\": [\r\n",
      "                    -1.0,\r\n",
      "                    -0.7777777777777778,\r\n",
      "                    -0.5555555555555556,\r\n",
      "                    -0.33333333333333337,\r\n",
      "                    -0.11111111111111116,\r\n",
      "                    0.11111111111111116,\r\n",
      "                    0.33333333333333326,\r\n",
      "                    0.5555555555555554,\r\n",
      "                    0.7777777777777777,\r\n",
      "                    1.0\r\n",
      "                ],\r\n",
      "                \"CT_bctaunutau\": [\r\n",
      "                    -1.0,\r\n",
      "                    -0.7777777777777778,\r\n",
      "                    -0.5555555555555556,\r\n",
      "                    -0.33333333333333337,\r\n",
      "                    -0.11111111111111116,\r\n",
      "                    0.11111111111111116,\r\n",
      "                    0.33333333333333326,\r\n"
     ]
    }
   ],
   "source": [
    "!head -n 100 output/cluster/tutorial_basics_metadata.json"
   ]
  },
  {
   "cell_type": "markdown",
   "metadata": {},
   "source": [
    "If you want to load this directly without relying on the ``Scanner`` or ``Cluster`` class, you can do so by calling"
   ]
  },
  {
   "cell_type": "code",
   "execution_count": 25,
   "metadata": {},
   "outputs": [],
   "source": [
    "with open(\"output/cluster/tutorial_basics_metadata.json\") as inputfile:\n",
    "    metadata = json.load(inputfile)"
   ]
  },
  {
   "cell_type": "markdown",
   "metadata": {},
   "source": [
    "Now you can use ``metadata`` like a nested python dictionary, e.g. ``metadata[\"bpoints\"]`` contains the information about the sampled points and ``metadata[dfunction]`` the information about the function that was used to generate the distributions."
   ]
  },
  {
   "cell_type": "markdown",
   "metadata": {},
   "source": [
    "## Cluster class"
   ]
  },
  {
   "cell_type": "markdown",
   "metadata": {},
   "source": [
    "Basically the same, just adds more metadata to it."
   ]
  }
 ],
 "metadata": {
  "kernelspec": {
   "display_name": "Python 3",
   "language": "python",
   "name": "python3"
  },
  "language_info": {
   "codemirror_mode": {
    "name": "ipython",
    "version": 3
   },
   "file_extension": ".py",
   "mimetype": "text/x-python",
   "name": "python",
   "nbconvert_exporter": "python",
   "pygments_lexer": "ipython3",
   "version": "3.6.7"
  }
 },
 "nbformat": 4,
 "nbformat_minor": 2
}
