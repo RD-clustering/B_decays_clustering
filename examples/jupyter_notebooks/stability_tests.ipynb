{
 "cells": [
  {
   "cell_type": "code",
   "execution_count": null,
   "metadata": {},
   "outputs": [],
   "source": [
    "# Show plots in Jupyter notebooks\n",
    "%matplotlib inline\n",
    "\n",
    "# Reload modules whenever they change\n",
    "# (for development purposes)\n",
    "%load_ext autoreload\n",
    "%autoreload 2\n",
    "\n",
    "# Make clusterking package available even without installation\n",
    "import sys\n",
    "sys.path = [\"../../\"] + sys.path"
   ]
  },
  {
   "cell_type": "code",
   "execution_count": null,
   "metadata": {},
   "outputs": [],
   "source": [
    "import clusterking as ck\n",
    "from clusterking.stability.subsamplestability import SubSampleStabilityTester\n",
    "from clusterking.stability.ccfom import *\n",
    "from clusterking.stability.ccpreprocessor import *\n",
    "from clusterking.cluster import HierarchyCluster\n",
    "import numpy as np\n",
    "import pandas as pd\n",
    "import tqdm"
   ]
  },
  {
   "cell_type": "code",
   "execution_count": null,
   "metadata": {},
   "outputs": [],
   "source": [
    "d = ck.Data(\"output/tutorial_basics.sql\")"
   ]
  },
  {
   "cell_type": "markdown",
   "metadata": {},
   "source": [
    "## SubSampleStabilityTester"
   ]
  },
  {
   "cell_type": "code",
   "execution_count": null,
   "metadata": {},
   "outputs": [],
   "source": [
    "ssst = SubSampleStabilityTester()\n",
    "ssst.set_fraction(0.999)\n",
    "ssst.set_repeat(1000)\n",
    "ssst.add_fom(\n",
    "    MatchingClusters(\n",
    "        preprocessor=TrivialClusterMatcher(),\n",
    "        name=\"MatchingClusters\"\n",
    "    )\n",
    ")\n",
    "ssst.add_fom(DeltaNClusters(name=\"DeltaNClusters\"))"
   ]
  },
  {
   "cell_type": "code",
   "execution_count": null,
   "metadata": {},
   "outputs": [],
   "source": [
    "c = HierarchyCluster()\n",
    "c.set_max_d(0.2)"
   ]
  },
  {
   "cell_type": "code",
   "execution_count": null,
   "metadata": {},
   "outputs": [],
   "source": [
    "r = ssst.run(d, c)"
   ]
  },
  {
   "cell_type": "code",
   "execution_count": null,
   "metadata": {},
   "outputs": [],
   "source": [
    "r.df.hist([\"MatchingClusters\", \"DeltaNClusters\"], density=True, layout=(1, 2), figsize=(15, 5));"
   ]
  },
  {
   "cell_type": "code",
   "execution_count": null,
   "metadata": {},
   "outputs": [],
   "source": [
    "r.df.describe()"
   ]
  },
  {
   "cell_type": "code",
   "execution_count": null,
   "metadata": {},
   "outputs": [],
   "source": [
    "r.df[\"fom\"].mean()"
   ]
  },
  {
   "cell_type": "markdown",
   "metadata": {},
   "source": [
    "## SubSampleStabilityVsFraction"
   ]
  },
  {
   "cell_type": "code",
   "execution_count": null,
   "metadata": {},
   "outputs": [],
   "source": [
    "from clusterking.stability.subsamplestability import SubSampleStabilityVsFraction"
   ]
  },
  {
   "cell_type": "code",
   "execution_count": null,
   "metadata": {},
   "outputs": [],
   "source": [
    "ssst = SubSampleStabilityTester()\n",
    "ssst.set_repeat(repeat=100)\n",
    "ssst.add_fom(\n",
    "    MatchingClusters(\n",
    "        preprocessor=TrivialClusterMatcher(),\n",
    "        name=\"MatchingClusters\"\n",
    "    )\n",
    ")\n",
    "ssst.add_fom(DeltaNClusters(name=\"DeltaNClusters\"))"
   ]
  },
  {
   "cell_type": "code",
   "execution_count": null,
   "metadata": {},
   "outputs": [],
   "source": [
    "sssvf = SubSampleStabilityVsFraction()"
   ]
  },
  {
   "cell_type": "code",
   "execution_count": null,
   "metadata": {},
   "outputs": [],
   "source": [
    "r = sssvf.run(d, c, ssst, list(np.linspace(0.7, 0.999, 5)))"
   ]
  },
  {
   "cell_type": "code",
   "execution_count": null,
   "metadata": {},
   "outputs": [],
   "source": [
    "r.df.plot.scatter(\"fraction\", \"MatchingClusters\")"
   ]
  },
  {
   "cell_type": "markdown",
   "metadata": {},
   "source": [
    "## Noisy sampling"
   ]
  },
  {
   "cell_type": "code",
   "execution_count": null,
   "metadata": {},
   "outputs": [],
   "source": [
    "s = ck.scan.Scanner()"
   ]
  },
  {
   "cell_type": "code",
   "execution_count": null,
   "metadata": {},
   "outputs": [],
   "source": [
    "s.set_spoints_equidist({\"a\": (-1, 1, 10), \"b\": (-1, 1, 10)})"
   ]
  },
  {
   "cell_type": "code",
   "execution_count": null,
   "metadata": {},
   "outputs": [],
   "source": [
    "original_spoints = s.spoints"
   ]
  },
  {
   "cell_type": "code",
   "execution_count": null,
   "metadata": {},
   "outputs": [],
   "source": [
    "s.add_spoints_noise(\"gauss\", mean=1., sigma=0.)"
   ]
  },
  {
   "cell_type": "code",
   "execution_count": null,
   "metadata": {},
   "outputs": [],
   "source": [
    "s.spoints"
   ]
  }
 ],
 "metadata": {
  "kernelspec": {
   "display_name": "Python 3",
   "language": "python",
   "name": "python3"
  },
  "language_info": {
   "codemirror_mode": {
    "name": "ipython",
    "version": 3
   },
   "file_extension": ".py",
   "mimetype": "text/x-python",
   "name": "python",
   "nbconvert_exporter": "python",
   "pygments_lexer": "ipython3",
   "version": "3.5.2"
  }
 },
 "nbformat": 4,
 "nbformat_minor": 2
}
