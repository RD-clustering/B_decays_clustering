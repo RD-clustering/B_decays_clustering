{
 "cells": [
  {
   "cell_type": "code",
   "execution_count": null,
   "metadata": {},
   "outputs": [],
   "source": [
    "# Show plots in Jupyter notebooks\n",
    "%matplotlib inline\n",
    "\n",
    "# Reload modules whenever they change\n",
    "# (for development purposes)\n",
    "%load_ext autoreload\n",
    "%autoreload 2\n",
    "\n",
    "# Make clusterking package available even without installation\n",
    "import sys\n",
    "sys.path = [\"../../\"] + sys.path"
   ]
  },
  {
   "cell_type": "code",
   "execution_count": null,
   "metadata": {},
   "outputs": [],
   "source": [
    "import clusterking as ck\n",
    "from clusterking.stability.subsamplestability import SubSampleStabilityTester\n",
    "from clusterking.stability.fom import *\n",
    "from clusterking.stability.ccpreprocessor import *\n",
    "from clusterking.cluster import HierarchyCluster\n",
    "import numpy as np\n",
    "import pandas as pd\n",
    "import tqdm"
   ]
  },
  {
   "cell_type": "code",
   "execution_count": null,
   "metadata": {},
   "outputs": [],
   "source": [
    "d = ck.Data(\"output/tutorial_basics.sql\")"
   ]
  },
  {
   "cell_type": "markdown",
   "metadata": {},
   "source": [
    "## SubSampleStabilityTester"
   ]
  },
  {
   "cell_type": "code",
   "execution_count": null,
   "metadata": {},
   "outputs": [],
   "source": [
    "ssst = SubSampleStabilityTester()\n",
    "ssst.set_fraction(0.999)\n",
    "ssst.set_repeat(100)\n",
    "ssst.add_fom(\n",
    "    MatchingClusters(\n",
    "        preprocessor=TrivialClusterMatcher(),\n",
    "        name=\"MatchingClusters\"\n",
    "    )\n",
    ")\n",
    "ssst.add_fom(DeltaNClusters(name=\"DeltaNClusters\"))"
   ]
  },
  {
   "cell_type": "code",
   "execution_count": null,
   "metadata": {},
   "outputs": [],
   "source": [
    "c = HierarchyCluster()\n",
    "c.set_max_d(0.2)"
   ]
  },
  {
   "cell_type": "code",
   "execution_count": null,
   "metadata": {},
   "outputs": [],
   "source": [
    "r = ssst.run(d, c)"
   ]
  },
  {
   "cell_type": "code",
   "execution_count": null,
   "metadata": {},
   "outputs": [],
   "source": [
    "r.df.hist([\"MatchingClusters\", \"DeltaNClusters\"], density=True, layout=(1, 2), figsize=(15, 5));"
   ]
  },
  {
   "cell_type": "code",
   "execution_count": null,
   "metadata": {},
   "outputs": [],
   "source": [
    "r.df.describe()"
   ]
  },
  {
   "cell_type": "markdown",
   "metadata": {},
   "source": [
    "## SubSampleStabilityVsFraction"
   ]
  },
  {
   "cell_type": "code",
   "execution_count": null,
   "metadata": {},
   "outputs": [],
   "source": [
    "from clusterking.stability.subsamplestability import SubSampleStabilityVsFraction"
   ]
  },
  {
   "cell_type": "code",
   "execution_count": null,
   "metadata": {},
   "outputs": [],
   "source": [
    "ssst = SubSampleStabilityTester()\n",
    "ssst.set_repeat(repeat=100)\n",
    "ssst.add_fom(\n",
    "    MatchingClusters(\n",
    "        preprocessor=TrivialClusterMatcher(),\n",
    "        name=\"MatchingClusters\"\n",
    "    )\n",
    ")\n",
    "ssst.add_fom(DeltaNClusters(name=\"DeltaNClusters\"))"
   ]
  },
  {
   "cell_type": "code",
   "execution_count": null,
   "metadata": {},
   "outputs": [],
   "source": [
    "sssvf = SubSampleStabilityVsFraction()"
   ]
  },
  {
   "cell_type": "code",
   "execution_count": null,
   "metadata": {},
   "outputs": [],
   "source": [
    "r = sssvf.run(d, c, ssst, list(np.linspace(0.7, 0.999, 5)))"
   ]
  },
  {
   "cell_type": "code",
   "execution_count": null,
   "metadata": {},
   "outputs": [],
   "source": [
    "r.df.plot.scatter(\"fraction\", \"MatchingClusters\")"
   ]
  },
  {
   "cell_type": "markdown",
   "metadata": {},
   "source": [
    "## Noisy sampling"
   ]
  },
  {
   "cell_type": "code",
   "execution_count": null,
   "metadata": {},
   "outputs": [],
   "source": [
    "from clusterking.stability.noisysamplestability import NoisySampleStabilityTester"
   ]
  },
  {
   "cell_type": "code",
   "execution_count": null,
   "metadata": {},
   "outputs": [],
   "source": [
    "import flavio\n",
    "import numpy as np\n",
    "\n",
    "s = ck.scan.WilsonScanner(scale=5, eft=\"WET\", basis=\"flavio\")\n",
    "\n",
    "def dBrdq2(w, q):\n",
    "    return flavio.np_prediction(\"dBR/dq2(B+->Dtaunu)\", w, q)\n",
    "\n",
    "s.set_dfunction(\n",
    "    dBrdq2,\n",
    "    binning=np.linspace(3.2, 11.6, 10),\n",
    "    normalize=True,\n",
    "    variable=\"q2\"  # only sets name of variable\n",
    ")\n",
    "\n",
    "s.set_spoints_equidist(\n",
    "    {\n",
    "        \"CVL_bctaunutau\": (-1, 1, 3),\n",
    "        \"CSL_bctaunutau\": (-1, 1, 3),\n",
    "        \"CT_bctaunutau\": (-1, 1, 3)\n",
    "    }\n",
    ")"
   ]
  },
  {
   "cell_type": "code",
   "execution_count": null,
   "metadata": {},
   "outputs": [],
   "source": [
    "d = ck.Data()"
   ]
  },
  {
   "cell_type": "code",
   "execution_count": null,
   "metadata": {},
   "outputs": [],
   "source": [
    "c = HierarchyCluster()\n",
    "c.set_max_d(0.2)"
   ]
  },
  {
   "cell_type": "code",
   "execution_count": null,
   "metadata": {},
   "outputs": [],
   "source": [
    "nsst = NoisySampleStabilityTester()\n",
    "nsst.set_repeat(10)\n",
    "nsst.set_noise(\"gauss\", mean=0., sigma=0.02)\n",
    "nsst.add_fom(\n",
    "    MatchingClusters(\n",
    "        preprocessor=TrivialClusterMatcher(),\n",
    "        name=\"MatchingClusters\"\n",
    "    )\n",
    ")\n",
    "nsst.add_fom(DeltaNClusters(name=\"DeltaNClusters\"))"
   ]
  },
  {
   "cell_type": "code",
   "execution_count": null,
   "metadata": {},
   "outputs": [],
   "source": [
    "r = nsst.run(d, s, c)"
   ]
  },
  {
   "cell_type": "code",
   "execution_count": null,
   "metadata": {},
   "outputs": [],
   "source": [
    "r.df"
   ]
  },
  {
   "cell_type": "code",
   "execution_count": null,
   "metadata": {},
   "outputs": [],
   "source": [
    "MatchingClusters(\n",
    "    preprocessor=TrivialClusterMatcher()\n",
    ").run(r._cached_data[0].df[\"cluster\"], r._cached_data[9].df[\"cluster\"]).fom"
   ]
  },
  {
   "cell_type": "code",
   "execution_count": null,
   "metadata": {},
   "outputs": [],
   "source": [
    "r._cached_data[1].plot_clusters_scatter([\"CSL_bctaunutau\", \"CT_bctaunutau\", \"CVL_bctaunutau\"]);"
   ]
  },
  {
   "cell_type": "code",
   "execution_count": null,
   "metadata": {},
   "outputs": [],
   "source": [
    "r._cached_data[0].plot_clusters_scatter([\"CSL_bctaunutau\", \"CT_bctaunutau\", \"CVL_bctaunutau\"]);"
   ]
  },
  {
   "cell_type": "code",
   "execution_count": null,
   "metadata": {},
   "outputs": [],
   "source": [
    "r._cached_data[0].df"
   ]
  },
  {
   "cell_type": "code",
   "execution_count": null,
   "metadata": {},
   "outputs": [],
   "source": []
  }
 ],
 "metadata": {
  "kernelspec": {
   "display_name": "Python 3 (Belle2)",
   "language": "python",
   "name": "python3"
  },
  "language_info": {
   "codemirror_mode": {
    "name": "ipython",
    "version": 3
   },
   "file_extension": ".py",
   "mimetype": "text/x-python",
   "name": "python",
   "nbconvert_exporter": "python",
   "pygments_lexer": "ipython3",
   "version": "3.6.6"
  }
 },
 "nbformat": 4,
 "nbformat_minor": 2
}
