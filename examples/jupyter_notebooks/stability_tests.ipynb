{
 "cells": [
  {
   "cell_type": "code",
   "execution_count": null,
   "metadata": {},
   "outputs": [],
   "source": [
    "# Show plots in Jupyter notebooks\n",
    "%matplotlib inline\n",
    "\n",
    "# Reload modules whenever they change\n",
    "# (for development purposes)\n",
    "%load_ext autoreload\n",
    "%autoreload 2\n",
    "\n",
    "# Make clusterking package available even without installation\n",
    "import sys\n",
    "sys.path = [\"../../\"] + sys.path"
   ]
  },
  {
   "cell_type": "code",
   "execution_count": null,
   "metadata": {},
   "outputs": [],
   "source": [
    "import clusterking as ck\n",
    "from clusterking.stability.subsamplestability import SubSampleStabilityTester\n",
    "from clusterking.cluster import HierarchyCluster\n",
    "import numpy as np\n",
    "import pandas as pd\n",
    "import tqdm"
   ]
  },
  {
   "cell_type": "code",
   "execution_count": null,
   "metadata": {},
   "outputs": [],
   "source": [
    "d = ck.Data(\"output/tutorial_basics.sql\")"
   ]
  },
  {
   "cell_type": "code",
   "execution_count": null,
   "metadata": {},
   "outputs": [],
   "source": [
    "ssst = SubSampleStabilityTester()\n",
    "ssst.set_basic_config(fraction=0.999, repeat=1000)"
   ]
  },
  {
   "cell_type": "code",
   "execution_count": null,
   "metadata": {},
   "outputs": [],
   "source": [
    "c = HierarchyCluster()\n",
    "c.set_max_d(0.2)"
   ]
  },
  {
   "cell_type": "code",
   "execution_count": null,
   "metadata": {},
   "outputs": [],
   "source": [
    "r = ssst.run(d, c)"
   ]
  },
  {
   "cell_type": "code",
   "execution_count": null,
   "metadata": {},
   "outputs": [],
   "source": [
    "r.df.hist([\"fom\", \"nclusters\"], density=True, layout=(1, 2), figsize=(15, 5));"
   ]
  },
  {
   "cell_type": "code",
   "execution_count": null,
   "metadata": {},
   "outputs": [],
   "source": [
    "r.df.describe()"
   ]
  },
  {
   "cell_type": "code",
   "execution_count": null,
   "metadata": {},
   "outputs": [],
   "source": [
    "r.df[\"fom\"].mean()"
   ]
  },
  {
   "cell_type": "code",
   "execution_count": null,
   "metadata": {},
   "outputs": [],
   "source": [
    "x = []\n",
    "fom = []\n",
    "nclusters = []\n",
    "ssst = SubSampleStabilityTester()\n",
    "ssst.set_progress_bar(False)\n",
    "pts = list(np.linspace(0.7, 0.999, 20)) + list(np.linspace(0.9, 0.999, 19))\n",
    "for fract in tqdm.tqdm(pts):\n",
    "    x.append(fract)\n",
    "    ssst.set_basic_config(fraction=fract, repeat=200)\n",
    "    r = ssst.run(d, c)\n",
    "    fom.append(r.df[\"fom\"].mean())\n",
    "    nclusters.append(r.df[\"nclusters\"].mean())"
   ]
  },
  {
   "cell_type": "code",
   "execution_count": null,
   "metadata": {},
   "outputs": [],
   "source": [
    "df = pd.DataFrame()\n",
    "df[\"fract\"] = x\n",
    "df[\"fom\"] = fom\n",
    "df[\"nclusters\"] = nclusters"
   ]
  },
  {
   "cell_type": "code",
   "execution_count": null,
   "metadata": {},
   "outputs": [],
   "source": [
    "df.plot.scatter(\"fract\", \"fom\")"
   ]
  }
 ],
 "metadata": {
  "kernelspec": {
   "display_name": "Python 3",
   "language": "python",
   "name": "python3"
  },
  "language_info": {
   "codemirror_mode": {
    "name": "ipython",
    "version": 3
   },
   "file_extension": ".py",
   "mimetype": "text/x-python",
   "name": "python",
   "nbconvert_exporter": "python",
   "pygments_lexer": "ipython3",
   "version": "3.6.6"
  }
 },
 "nbformat": 4,
 "nbformat_minor": 2
}
