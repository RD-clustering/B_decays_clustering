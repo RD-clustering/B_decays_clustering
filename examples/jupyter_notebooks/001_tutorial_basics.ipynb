{
 "cells": [
  {
   "cell_type": "markdown",
   "metadata": {},
   "source": [
    "# Tutorial 1: Basics\n",
    "\n",
    "This tutorial will talk about how to use this software from your own python project or Jupyter notebook.\n",
    "There is also a nice command line interface that enables you to do the same with just two lines in your command line.\n",
    "\n",
    "**NOTE FOR CONTRIBUTORS: Always clear all output before commiting (``Cell`` > ``All Output`` > ``Clear``)**!"
   ]
  },
  {
   "cell_type": "code",
   "execution_count": 1,
   "metadata": {},
   "outputs": [],
   "source": [
    "# Magic\n",
    "%matplotlib inline\n",
    "# Reload modules whenever they change\n",
    "%load_ext autoreload\n",
    "%autoreload 2\n",
    "\n",
    "# Make bclustering package available even without installation\n",
    "import sys\n",
    "sys.path = [\"../../\"] + sys.path\n",
    "\n",
    "import bclustering"
   ]
  },
  {
   "cell_type": "markdown",
   "metadata": {},
   "source": [
    "## Scanning\n",
    "\n",
    "### Setting it up"
   ]
  },
  {
   "cell_type": "markdown",
   "metadata": {},
   "source": [
    "Let's set up a scanner object and configure it."
   ]
  },
  {
   "cell_type": "code",
   "execution_count": 2,
   "metadata": {},
   "outputs": [],
   "source": [
    "s = bclustering.Scanner()"
   ]
  },
  {
   "cell_type": "markdown",
   "metadata": {},
   "source": [
    "First we set up the function/distribution that we want to consider. Here we look into the branching ratio with respect to $q^2$ of $B\\to D \\,\\tau\\, \\bar\\nu_\\tau$. The function of the differential branching ration is taken from the flavio package (https://flav-io.github.io/). The $q^2$ binning is chose to have 9 bins between $(3.2 \\,\\text{GeV})^2$ and $(11.6\\,\\text{GeV})^2$ and is implemented as follows"
   ]
  },
  {
   "cell_type": "code",
   "execution_count": 4,
   "metadata": {},
   "outputs": [],
   "source": [
    "import flavio\n",
    "import numpy as np\n",
    "\n",
    "def dBrdq2(w, q):\n",
    "    return flavio.sm_prediction(\"dBR/dq2(B+->Dtaunu)\", q) + flavio.np_prediction(\"dBR/dq2(B+->Dtaunu)\", w, q)\n",
    "\n",
    "s.set_dfunction(\n",
    "    dBrdq2,\n",
    "    binning=np.linspace(3.2, 11.6, 10),\n",
    "    normalize=True\n",
    ")"
   ]
  },
  {
   "cell_type": "markdown",
   "metadata": {},
   "source": [
    "First, let's set up the Wilson coefficients that need to be sampled. The Wilson coefficients are implemented using the Wilson package (https://wilson-eft.github.io/), which allows to use a variety of bases, EFTs and matches them to user specified scales.\n",
    "Using the example of $B\\longrightarrow D \\tau \\bar\\nu_\\tau$, we sample the coefficients ``CVL_bctaunutau``, ``CSL_bctaunutau`` and ``CT_bctaunutau`` from the ``flavio`` basis (https://wcxf.github.io/assets/pdf/WET.flavio.pdf) with 10 points between $-1$ and $1$ at the scale of 5 GeV:"
   ]
  },
  {
   "cell_type": "code",
   "execution_count": 6,
   "metadata": {},
   "outputs": [],
   "source": [
    "s.set_wpoints_equidist(\n",
    "    {\n",
    "        \"CVL_bctaunutau\": (-1, 1, 10),\n",
    "        \"CSL_bctaunutau\": (-1, 1, 10),\n",
    "        \"CT_bctaunutau\": (-1, 1, 10)\n",
    "    },\n",
    "    scale=5,\n",
    "    eft='WET',\n",
    "    basis='flavio'\n",
    ")"
   ]
  },
  {
   "cell_type": "markdown",
   "metadata": {},
   "source": [
    "### Running it"
   ]
  },
  {
   "cell_type": "code",
   "execution_count": 7,
   "metadata": {},
   "outputs": [],
   "source": [
    "d = bclustering.DataWithErrors()"
   ]
  },
  {
   "cell_type": "code",
   "execution_count": 8,
   "metadata": {},
   "outputs": [
    {
     "name": "stderr",
     "output_type": "stream",
     "text": [
      "\u001b[32mScanner:INFO:Started queue with 1000 job(s) distributed over up to 8 core(s)/worker(s).\u001b[0m\n",
      "Scanning: 100%|████████████████████████| 1000/1000 [00:46<00:00, 21.67 wpoint/s]\n",
      "\u001b[36mScanner:DEBUG:Converting data to pandas dataframe.\u001b[0m\n",
      "\u001b[32mScanner:INFO:Integration done.\u001b[0m\n"
     ]
    }
   ],
   "source": [
    "s.run(d)"
   ]
  },
  {
   "cell_type": "markdown",
   "metadata": {},
   "source": [
    "The results are saved in a dataframe, ``d.df``. Let's have a look:"
   ]
  },
  {
   "cell_type": "code",
   "execution_count": 25,
   "metadata": {
    "scrolled": false
   },
   "outputs": [
    {
     "data": {
      "text/html": [
       "<div>\n",
       "<style scoped>\n",
       "    .dataframe tbody tr th:only-of-type {\n",
       "        vertical-align: middle;\n",
       "    }\n",
       "\n",
       "    .dataframe tbody tr th {\n",
       "        vertical-align: top;\n",
       "    }\n",
       "\n",
       "    .dataframe thead th {\n",
       "        text-align: right;\n",
       "    }\n",
       "</style>\n",
       "<table border=\"1\" class=\"dataframe\">\n",
       "  <thead>\n",
       "    <tr style=\"text-align: right;\">\n",
       "      <th></th>\n",
       "      <th>CVL_bctaunutau</th>\n",
       "      <th>CSL_bctaunutau</th>\n",
       "      <th>CT_bctaunutau</th>\n",
       "      <th>bin0</th>\n",
       "      <th>bin1</th>\n",
       "      <th>bin2</th>\n",
       "      <th>bin3</th>\n",
       "      <th>bin4</th>\n",
       "      <th>bin5</th>\n",
       "      <th>bin6</th>\n",
       "      <th>bin7</th>\n",
       "      <th>bin8</th>\n",
       "      <th>cluster</th>\n",
       "      <th>bpoint</th>\n",
       "    </tr>\n",
       "    <tr>\n",
       "      <th>index</th>\n",
       "      <th></th>\n",
       "      <th></th>\n",
       "      <th></th>\n",
       "      <th></th>\n",
       "      <th></th>\n",
       "      <th></th>\n",
       "      <th></th>\n",
       "      <th></th>\n",
       "      <th></th>\n",
       "      <th></th>\n",
       "      <th></th>\n",
       "      <th></th>\n",
       "      <th></th>\n",
       "      <th></th>\n",
       "    </tr>\n",
       "  </thead>\n",
       "  <tbody>\n",
       "    <tr>\n",
       "      <th>0</th>\n",
       "      <td>-1.0</td>\n",
       "      <td>-1.0</td>\n",
       "      <td>-1.000000</td>\n",
       "      <td>0.019218</td>\n",
       "      <td>0.075804</td>\n",
       "      <td>0.124671</td>\n",
       "      <td>0.154968</td>\n",
       "      <td>0.166859</td>\n",
       "      <td>0.161631</td>\n",
       "      <td>0.140382</td>\n",
       "      <td>0.104140</td>\n",
       "      <td>0.052326</td>\n",
       "      <td>0</td>\n",
       "      <td>False</td>\n",
       "    </tr>\n",
       "    <tr>\n",
       "      <th>1</th>\n",
       "      <td>-1.0</td>\n",
       "      <td>-1.0</td>\n",
       "      <td>-0.777778</td>\n",
       "      <td>0.019774</td>\n",
       "      <td>0.077057</td>\n",
       "      <td>0.125625</td>\n",
       "      <td>0.155325</td>\n",
       "      <td>0.166726</td>\n",
       "      <td>0.161173</td>\n",
       "      <td>0.139682</td>\n",
       "      <td>0.103217</td>\n",
       "      <td>0.051420</td>\n",
       "      <td>0</td>\n",
       "      <td>False</td>\n",
       "    </tr>\n",
       "    <tr>\n",
       "      <th>2</th>\n",
       "      <td>-1.0</td>\n",
       "      <td>-1.0</td>\n",
       "      <td>-0.555556</td>\n",
       "      <td>0.020911</td>\n",
       "      <td>0.079837</td>\n",
       "      <td>0.127986</td>\n",
       "      <td>0.156359</td>\n",
       "      <td>0.166421</td>\n",
       "      <td>0.159859</td>\n",
       "      <td>0.137758</td>\n",
       "      <td>0.101089</td>\n",
       "      <td>0.049780</td>\n",
       "      <td>0</td>\n",
       "      <td>False</td>\n",
       "    </tr>\n",
       "    <tr>\n",
       "      <th>3</th>\n",
       "      <td>-1.0</td>\n",
       "      <td>-1.0</td>\n",
       "      <td>-0.333333</td>\n",
       "      <td>0.022681</td>\n",
       "      <td>0.084329</td>\n",
       "      <td>0.131975</td>\n",
       "      <td>0.158200</td>\n",
       "      <td>0.165919</td>\n",
       "      <td>0.157526</td>\n",
       "      <td>0.134387</td>\n",
       "      <td>0.097593</td>\n",
       "      <td>0.047389</td>\n",
       "      <td>0</td>\n",
       "      <td>False</td>\n",
       "    </tr>\n",
       "    <tr>\n",
       "      <th>4</th>\n",
       "      <td>-1.0</td>\n",
       "      <td>-1.0</td>\n",
       "      <td>-0.111111</td>\n",
       "      <td>0.024851</td>\n",
       "      <td>0.089976</td>\n",
       "      <td>0.137132</td>\n",
       "      <td>0.160655</td>\n",
       "      <td>0.165283</td>\n",
       "      <td>0.154420</td>\n",
       "      <td>0.129933</td>\n",
       "      <td>0.093153</td>\n",
       "      <td>0.044598</td>\n",
       "      <td>1</td>\n",
       "      <td>False</td>\n",
       "    </tr>\n",
       "  </tbody>\n",
       "</table>\n",
       "</div>"
      ],
      "text/plain": [
       "       CVL_bctaunutau  CSL_bctaunutau  CT_bctaunutau      bin0      bin1  \\\n",
       "index                                                                      \n",
       "0                -1.0            -1.0      -1.000000  0.019218  0.075804   \n",
       "1                -1.0            -1.0      -0.777778  0.019774  0.077057   \n",
       "2                -1.0            -1.0      -0.555556  0.020911  0.079837   \n",
       "3                -1.0            -1.0      -0.333333  0.022681  0.084329   \n",
       "4                -1.0            -1.0      -0.111111  0.024851  0.089976   \n",
       "\n",
       "           bin2      bin3      bin4      bin5      bin6      bin7      bin8  \\\n",
       "index                                                                         \n",
       "0      0.124671  0.154968  0.166859  0.161631  0.140382  0.104140  0.052326   \n",
       "1      0.125625  0.155325  0.166726  0.161173  0.139682  0.103217  0.051420   \n",
       "2      0.127986  0.156359  0.166421  0.159859  0.137758  0.101089  0.049780   \n",
       "3      0.131975  0.158200  0.165919  0.157526  0.134387  0.097593  0.047389   \n",
       "4      0.137132  0.160655  0.165283  0.154420  0.129933  0.093153  0.044598   \n",
       "\n",
       "       cluster  bpoint  \n",
       "index                   \n",
       "0            0   False  \n",
       "1            0   False  \n",
       "2            0   False  \n",
       "3            0   False  \n",
       "4            1   False  "
      ]
     },
     "execution_count": 25,
     "metadata": {},
     "output_type": "execute_result"
    }
   ],
   "source": [
    "d.df.head()"
   ]
  },
  {
   "cell_type": "markdown",
   "metadata": {},
   "source": [
    "## Clustering"
   ]
  },
  {
   "cell_type": "code",
   "execution_count": 10,
   "metadata": {},
   "outputs": [],
   "source": [
    "c = bclustering.cluster.HierarchyCluster(d)"
   ]
  },
  {
   "cell_type": "code",
   "execution_count": 11,
   "metadata": {},
   "outputs": [],
   "source": [
    "c.set_metric()"
   ]
  },
  {
   "cell_type": "code",
   "execution_count": 12,
   "metadata": {},
   "outputs": [
    {
     "name": "stderr",
     "output_type": "stream",
     "text": [
      "\u001b[36mScanner:DEBUG:Building hierarchy.\u001b[0m\n",
      "\u001b[36mScanner:DEBUG:Done\u001b[0m\n"
     ]
    }
   ],
   "source": [
    "c.build_hierarchy()"
   ]
  },
  {
   "cell_type": "code",
   "execution_count": 13,
   "metadata": {},
   "outputs": [
    {
     "name": "stderr",
     "output_type": "stream",
     "text": [
      "\u001b[32mScanner:INFO:Performing clustering.\u001b[0m\n",
      "\u001b[32mScanner:INFO:Clustering resulted in 4 get_clusters.\u001b[0m\n",
      "\u001b[32mScanner:INFO:Done\u001b[0m\n"
     ]
    }
   ],
   "source": [
    "c.cluster(max_d=0.04)"
   ]
  },
  {
   "cell_type": "code",
   "execution_count": 14,
   "metadata": {},
   "outputs": [],
   "source": [
    "c.write()"
   ]
  },
  {
   "cell_type": "markdown",
   "metadata": {},
   "source": [
    "Let's take a look and notice the new column ``cluster``:"
   ]
  },
  {
   "cell_type": "code",
   "execution_count": 17,
   "metadata": {},
   "outputs": [
    {
     "data": {
      "text/html": [
       "<div>\n",
       "<style scoped>\n",
       "    .dataframe tbody tr th:only-of-type {\n",
       "        vertical-align: middle;\n",
       "    }\n",
       "\n",
       "    .dataframe tbody tr th {\n",
       "        vertical-align: top;\n",
       "    }\n",
       "\n",
       "    .dataframe thead th {\n",
       "        text-align: right;\n",
       "    }\n",
       "</style>\n",
       "<table border=\"1\" class=\"dataframe\">\n",
       "  <thead>\n",
       "    <tr style=\"text-align: right;\">\n",
       "      <th></th>\n",
       "      <th>CVL_bctaunutau</th>\n",
       "      <th>CSL_bctaunutau</th>\n",
       "      <th>CT_bctaunutau</th>\n",
       "      <th>bin0</th>\n",
       "      <th>bin1</th>\n",
       "      <th>bin2</th>\n",
       "      <th>bin3</th>\n",
       "      <th>bin4</th>\n",
       "      <th>bin5</th>\n",
       "      <th>bin6</th>\n",
       "      <th>bin7</th>\n",
       "      <th>bin8</th>\n",
       "      <th>cluster</th>\n",
       "    </tr>\n",
       "    <tr>\n",
       "      <th>index</th>\n",
       "      <th></th>\n",
       "      <th></th>\n",
       "      <th></th>\n",
       "      <th></th>\n",
       "      <th></th>\n",
       "      <th></th>\n",
       "      <th></th>\n",
       "      <th></th>\n",
       "      <th></th>\n",
       "      <th></th>\n",
       "      <th></th>\n",
       "      <th></th>\n",
       "      <th></th>\n",
       "    </tr>\n",
       "  </thead>\n",
       "  <tbody>\n",
       "    <tr>\n",
       "      <th>0</th>\n",
       "      <td>-1.0</td>\n",
       "      <td>-1.0</td>\n",
       "      <td>-1.000000</td>\n",
       "      <td>0.019218</td>\n",
       "      <td>0.075804</td>\n",
       "      <td>0.124671</td>\n",
       "      <td>0.154968</td>\n",
       "      <td>0.166859</td>\n",
       "      <td>0.161631</td>\n",
       "      <td>0.140382</td>\n",
       "      <td>0.104140</td>\n",
       "      <td>0.052326</td>\n",
       "      <td>0</td>\n",
       "    </tr>\n",
       "    <tr>\n",
       "      <th>1</th>\n",
       "      <td>-1.0</td>\n",
       "      <td>-1.0</td>\n",
       "      <td>-0.777778</td>\n",
       "      <td>0.019774</td>\n",
       "      <td>0.077057</td>\n",
       "      <td>0.125625</td>\n",
       "      <td>0.155325</td>\n",
       "      <td>0.166726</td>\n",
       "      <td>0.161173</td>\n",
       "      <td>0.139682</td>\n",
       "      <td>0.103217</td>\n",
       "      <td>0.051420</td>\n",
       "      <td>0</td>\n",
       "    </tr>\n",
       "    <tr>\n",
       "      <th>2</th>\n",
       "      <td>-1.0</td>\n",
       "      <td>-1.0</td>\n",
       "      <td>-0.555556</td>\n",
       "      <td>0.020911</td>\n",
       "      <td>0.079837</td>\n",
       "      <td>0.127986</td>\n",
       "      <td>0.156359</td>\n",
       "      <td>0.166421</td>\n",
       "      <td>0.159859</td>\n",
       "      <td>0.137758</td>\n",
       "      <td>0.101089</td>\n",
       "      <td>0.049780</td>\n",
       "      <td>0</td>\n",
       "    </tr>\n",
       "    <tr>\n",
       "      <th>3</th>\n",
       "      <td>-1.0</td>\n",
       "      <td>-1.0</td>\n",
       "      <td>-0.333333</td>\n",
       "      <td>0.022681</td>\n",
       "      <td>0.084329</td>\n",
       "      <td>0.131975</td>\n",
       "      <td>0.158200</td>\n",
       "      <td>0.165919</td>\n",
       "      <td>0.157526</td>\n",
       "      <td>0.134387</td>\n",
       "      <td>0.097593</td>\n",
       "      <td>0.047389</td>\n",
       "      <td>0</td>\n",
       "    </tr>\n",
       "    <tr>\n",
       "      <th>4</th>\n",
       "      <td>-1.0</td>\n",
       "      <td>-1.0</td>\n",
       "      <td>-0.111111</td>\n",
       "      <td>0.024851</td>\n",
       "      <td>0.089976</td>\n",
       "      <td>0.137132</td>\n",
       "      <td>0.160655</td>\n",
       "      <td>0.165283</td>\n",
       "      <td>0.154420</td>\n",
       "      <td>0.129933</td>\n",
       "      <td>0.093153</td>\n",
       "      <td>0.044598</td>\n",
       "      <td>1</td>\n",
       "    </tr>\n",
       "  </tbody>\n",
       "</table>\n",
       "</div>"
      ],
      "text/plain": [
       "       CVL_bctaunutau  CSL_bctaunutau  CT_bctaunutau      bin0      bin1  \\\n",
       "index                                                                      \n",
       "0                -1.0            -1.0      -1.000000  0.019218  0.075804   \n",
       "1                -1.0            -1.0      -0.777778  0.019774  0.077057   \n",
       "2                -1.0            -1.0      -0.555556  0.020911  0.079837   \n",
       "3                -1.0            -1.0      -0.333333  0.022681  0.084329   \n",
       "4                -1.0            -1.0      -0.111111  0.024851  0.089976   \n",
       "\n",
       "           bin2      bin3      bin4      bin5      bin6      bin7      bin8  \\\n",
       "index                                                                         \n",
       "0      0.124671  0.154968  0.166859  0.161631  0.140382  0.104140  0.052326   \n",
       "1      0.125625  0.155325  0.166726  0.161173  0.139682  0.103217  0.051420   \n",
       "2      0.127986  0.156359  0.166421  0.159859  0.137758  0.101089  0.049780   \n",
       "3      0.131975  0.158200  0.165919  0.157526  0.134387  0.097593  0.047389   \n",
       "4      0.137132  0.160655  0.165283  0.154420  0.129933  0.093153  0.044598   \n",
       "\n",
       "       cluster  \n",
       "index           \n",
       "0            0  \n",
       "1            0  \n",
       "2            0  \n",
       "3            0  \n",
       "4            1  "
      ]
     },
     "execution_count": 17,
     "metadata": {},
     "output_type": "execute_result"
    }
   ],
   "source": [
    "d.df.head()"
   ]
  },
  {
   "cell_type": "markdown",
   "metadata": {},
   "source": [
    "## Selecting benchmark points"
   ]
  },
  {
   "cell_type": "code",
   "execution_count": 18,
   "metadata": {},
   "outputs": [],
   "source": [
    "b = bclustering.Benchmark(d)"
   ]
  },
  {
   "cell_type": "code",
   "execution_count": 19,
   "metadata": {},
   "outputs": [],
   "source": [
    "b.set_metric()"
   ]
  },
  {
   "cell_type": "code",
   "execution_count": 20,
   "metadata": {},
   "outputs": [],
   "source": [
    "b.select_bpoints()"
   ]
  },
  {
   "cell_type": "code",
   "execution_count": 21,
   "metadata": {},
   "outputs": [],
   "source": [
    "b.write()"
   ]
  },
  {
   "cell_type": "markdown",
   "metadata": {},
   "source": [
    "Let's take a look and notice the new column ``bpoint``:"
   ]
  },
  {
   "cell_type": "code",
   "execution_count": 22,
   "metadata": {},
   "outputs": [
    {
     "data": {
      "text/html": [
       "<div>\n",
       "<style scoped>\n",
       "    .dataframe tbody tr th:only-of-type {\n",
       "        vertical-align: middle;\n",
       "    }\n",
       "\n",
       "    .dataframe tbody tr th {\n",
       "        vertical-align: top;\n",
       "    }\n",
       "\n",
       "    .dataframe thead th {\n",
       "        text-align: right;\n",
       "    }\n",
       "</style>\n",
       "<table border=\"1\" class=\"dataframe\">\n",
       "  <thead>\n",
       "    <tr style=\"text-align: right;\">\n",
       "      <th></th>\n",
       "      <th>CVL_bctaunutau</th>\n",
       "      <th>CSL_bctaunutau</th>\n",
       "      <th>CT_bctaunutau</th>\n",
       "      <th>bin0</th>\n",
       "      <th>bin1</th>\n",
       "      <th>bin2</th>\n",
       "      <th>bin3</th>\n",
       "      <th>bin4</th>\n",
       "      <th>bin5</th>\n",
       "      <th>bin6</th>\n",
       "      <th>bin7</th>\n",
       "      <th>bin8</th>\n",
       "      <th>cluster</th>\n",
       "      <th>bpoint</th>\n",
       "    </tr>\n",
       "    <tr>\n",
       "      <th>index</th>\n",
       "      <th></th>\n",
       "      <th></th>\n",
       "      <th></th>\n",
       "      <th></th>\n",
       "      <th></th>\n",
       "      <th></th>\n",
       "      <th></th>\n",
       "      <th></th>\n",
       "      <th></th>\n",
       "      <th></th>\n",
       "      <th></th>\n",
       "      <th></th>\n",
       "      <th></th>\n",
       "      <th></th>\n",
       "    </tr>\n",
       "  </thead>\n",
       "  <tbody>\n",
       "    <tr>\n",
       "      <th>0</th>\n",
       "      <td>-1.0</td>\n",
       "      <td>-1.0</td>\n",
       "      <td>-1.000000</td>\n",
       "      <td>0.019218</td>\n",
       "      <td>0.075804</td>\n",
       "      <td>0.124671</td>\n",
       "      <td>0.154968</td>\n",
       "      <td>0.166859</td>\n",
       "      <td>0.161631</td>\n",
       "      <td>0.140382</td>\n",
       "      <td>0.104140</td>\n",
       "      <td>0.052326</td>\n",
       "      <td>0</td>\n",
       "      <td>False</td>\n",
       "    </tr>\n",
       "    <tr>\n",
       "      <th>1</th>\n",
       "      <td>-1.0</td>\n",
       "      <td>-1.0</td>\n",
       "      <td>-0.777778</td>\n",
       "      <td>0.019774</td>\n",
       "      <td>0.077057</td>\n",
       "      <td>0.125625</td>\n",
       "      <td>0.155325</td>\n",
       "      <td>0.166726</td>\n",
       "      <td>0.161173</td>\n",
       "      <td>0.139682</td>\n",
       "      <td>0.103217</td>\n",
       "      <td>0.051420</td>\n",
       "      <td>0</td>\n",
       "      <td>False</td>\n",
       "    </tr>\n",
       "    <tr>\n",
       "      <th>2</th>\n",
       "      <td>-1.0</td>\n",
       "      <td>-1.0</td>\n",
       "      <td>-0.555556</td>\n",
       "      <td>0.020911</td>\n",
       "      <td>0.079837</td>\n",
       "      <td>0.127986</td>\n",
       "      <td>0.156359</td>\n",
       "      <td>0.166421</td>\n",
       "      <td>0.159859</td>\n",
       "      <td>0.137758</td>\n",
       "      <td>0.101089</td>\n",
       "      <td>0.049780</td>\n",
       "      <td>0</td>\n",
       "      <td>False</td>\n",
       "    </tr>\n",
       "    <tr>\n",
       "      <th>3</th>\n",
       "      <td>-1.0</td>\n",
       "      <td>-1.0</td>\n",
       "      <td>-0.333333</td>\n",
       "      <td>0.022681</td>\n",
       "      <td>0.084329</td>\n",
       "      <td>0.131975</td>\n",
       "      <td>0.158200</td>\n",
       "      <td>0.165919</td>\n",
       "      <td>0.157526</td>\n",
       "      <td>0.134387</td>\n",
       "      <td>0.097593</td>\n",
       "      <td>0.047389</td>\n",
       "      <td>0</td>\n",
       "      <td>False</td>\n",
       "    </tr>\n",
       "    <tr>\n",
       "      <th>4</th>\n",
       "      <td>-1.0</td>\n",
       "      <td>-1.0</td>\n",
       "      <td>-0.111111</td>\n",
       "      <td>0.024851</td>\n",
       "      <td>0.089976</td>\n",
       "      <td>0.137132</td>\n",
       "      <td>0.160655</td>\n",
       "      <td>0.165283</td>\n",
       "      <td>0.154420</td>\n",
       "      <td>0.129933</td>\n",
       "      <td>0.093153</td>\n",
       "      <td>0.044598</td>\n",
       "      <td>1</td>\n",
       "      <td>False</td>\n",
       "    </tr>\n",
       "  </tbody>\n",
       "</table>\n",
       "</div>"
      ],
      "text/plain": [
       "       CVL_bctaunutau  CSL_bctaunutau  CT_bctaunutau      bin0      bin1  \\\n",
       "index                                                                      \n",
       "0                -1.0            -1.0      -1.000000  0.019218  0.075804   \n",
       "1                -1.0            -1.0      -0.777778  0.019774  0.077057   \n",
       "2                -1.0            -1.0      -0.555556  0.020911  0.079837   \n",
       "3                -1.0            -1.0      -0.333333  0.022681  0.084329   \n",
       "4                -1.0            -1.0      -0.111111  0.024851  0.089976   \n",
       "\n",
       "           bin2      bin3      bin4      bin5      bin6      bin7      bin8  \\\n",
       "index                                                                         \n",
       "0      0.124671  0.154968  0.166859  0.161631  0.140382  0.104140  0.052326   \n",
       "1      0.125625  0.155325  0.166726  0.161173  0.139682  0.103217  0.051420   \n",
       "2      0.127986  0.156359  0.166421  0.159859  0.137758  0.101089  0.049780   \n",
       "3      0.131975  0.158200  0.165919  0.157526  0.134387  0.097593  0.047389   \n",
       "4      0.137132  0.160655  0.165283  0.154420  0.129933  0.093153  0.044598   \n",
       "\n",
       "       cluster  bpoint  \n",
       "index                   \n",
       "0            0   False  \n",
       "1            0   False  \n",
       "2            0   False  \n",
       "3            0   False  \n",
       "4            1   False  "
      ]
     },
     "execution_count": 22,
     "metadata": {},
     "output_type": "execute_result"
    }
   ],
   "source": [
    "d.df.head()"
   ]
  },
  {
   "cell_type": "markdown",
   "metadata": {},
   "source": [
    "## Preserving results"
   ]
  },
  {
   "cell_type": "markdown",
   "metadata": {},
   "source": [
    "Now it's time to write out the results for later use."
   ]
  },
  {
   "cell_type": "code",
   "execution_count": 27,
   "metadata": {},
   "outputs": [
    {
     "name": "stderr",
     "output_type": "stream",
     "text": [
      "\u001b[32mDFMD:INFO:Will write dataframe to 'output/cluster/tutorial_basics_data.csv'.\u001b[0m\n",
      "\u001b[36mDFMD:DEBUG:Done\u001b[0m\n",
      "\u001b[32mDFMD:INFO:Will write metadata to 'output/cluster/tutorial_basics_metadata.json'.\u001b[0m\n",
      "\u001b[36mDFMD:DEBUG:Done\u001b[0m\n"
     ]
    }
   ],
   "source": [
    "d.write(\"output/cluster\", \"tutorial_basics\", overwrite=\"overwrite\")"
   ]
  },
  {
   "cell_type": "markdown",
   "metadata": {},
   "source": [
    "This will not only write out the data itself, but also a lot of associated metadata that makes it easy to later reconstruct what the data actually represents. This was accumulated in the attribute ``d.md`` over all steps:"
   ]
  },
  {
   "cell_type": "code",
   "execution_count": 28,
   "metadata": {},
   "outputs": [
    {
     "data": {
      "text/plain": [
       "defaultdict(<function bclustering.util.metadata.nested_dict>,\n",
       "            {'bpoint': defaultdict(<function bclustering.util.metadata.nested_dict>,\n",
       "                         {'bpoint': defaultdict(<function bclustering.util.metadata.nested_dict>,\n",
       "                                      {'cluster_column': defaultdict(<function bclustering.util.metadata.nested_dict>,\n",
       "                                                   {}),\n",
       "                                       'metric': defaultdict(<function bclustering.util.metadata.nested_dict>,\n",
       "                                                   {'args': [],\n",
       "                                                    'kwargs': {}})})}),\n",
       "             'cluster': defaultdict(<function bclustering.util.metadata.nested_dict>,\n",
       "                         {'cluster': defaultdict(<function bclustering.util.metadata.nested_dict>,\n",
       "                                      {'cluster_args': {'max_d': 0.04},\n",
       "                                       'git': {'branch': 'HEAD',\n",
       "                                        'msg': 'do not write out git version (causes trouble when installing with pip, because dependencies are still not there)',\n",
       "                                        'sha': '5bf9159490bd11758d9c370382bf50753db5d252',\n",
       "                                        'time': 'Sun 24 Mar 2019 17:35'},\n",
       "                                       'hierarchy': defaultdict(<function bclustering.util.metadata.nested_dict>,\n",
       "                                                   {'method': 'complete',\n",
       "                                                    'optimal_ordering': False}),\n",
       "                                       'metric': defaultdict(<function bclustering.util.metadata.nested_dict>,\n",
       "                                                   {'args': [], 'kwargs': {}}),\n",
       "                                       'n_clusters': 4,\n",
       "                                       'time': 'Mon 25 Mar 2019 14:39'})}),\n",
       "             'errors': defaultdict(<function bclustering.util.metadata.nested_dict>,\n",
       "                         {'abs_cov': None, 'poisson': False, 'rel_cov': None}),\n",
       "             'scan': defaultdict(<function bclustering.util.metadata.nested_dict>,\n",
       "                         {'dfunction': defaultdict(<function bclustering.util.metadata.nested_dict>,\n",
       "                                      {'doc': None,\n",
       "                                       'kwargs': {},\n",
       "                                       'name': 'dBrdq2',\n",
       "                                       'nbins': 9}),\n",
       "                          'git': {'branch': 'HEAD',\n",
       "                           'msg': 'do not write out git version (causes trouble when installing with pip, because dependencies are still not there)',\n",
       "                           'sha': '5bf9159490bd11758d9c370382bf50753db5d252',\n",
       "                           'time': 'Sun 24 Mar 2019 17:35'},\n",
       "                          'time': 'Mon 25 Mar 2019 14:11',\n",
       "                          'wpoints': defaultdict(<function bclustering.util.metadata.nested_dict>,\n",
       "                                      {'basis': 'flavio',\n",
       "                                       'coeffs': ['CVL_bctaunutau',\n",
       "                                        'CSL_bctaunutau',\n",
       "                                        'CT_bctaunutau'],\n",
       "                                       'eft': 'WET',\n",
       "                                       'ranges': {'CSL_bctaunutau': (-1,\n",
       "                                         1,\n",
       "                                         10),\n",
       "                                        'CT_bctaunutau': (-1, 1, 10),\n",
       "                                        'CVL_bctaunutau': (-1, 1, 10)},\n",
       "                                       'sampling': 'equidistant',\n",
       "                                       'scale': 5,\n",
       "                                       'values': {'CSL_bctaunutau': [-1.0,\n",
       "                                         -0.7777777777777778,\n",
       "                                         -0.5555555555555556,\n",
       "                                         -0.33333333333333337,\n",
       "                                         -0.11111111111111116,\n",
       "                                         0.11111111111111116,\n",
       "                                         0.33333333333333326,\n",
       "                                         0.5555555555555554,\n",
       "                                         0.7777777777777777,\n",
       "                                         1.0],\n",
       "                                        'CT_bctaunutau': [-1.0,\n",
       "                                         -0.7777777777777778,\n",
       "                                         -0.5555555555555556,\n",
       "                                         -0.33333333333333337,\n",
       "                                         -0.11111111111111116,\n",
       "                                         0.11111111111111116,\n",
       "                                         0.33333333333333326,\n",
       "                                         0.5555555555555554,\n",
       "                                         0.7777777777777777,\n",
       "                                         1.0],\n",
       "                                        'CVL_bctaunutau': [-1.0,\n",
       "                                         -0.7777777777777778,\n",
       "                                         -0.5555555555555556,\n",
       "                                         -0.33333333333333337,\n",
       "                                         -0.11111111111111116,\n",
       "                                         0.11111111111111116,\n",
       "                                         0.33333333333333326,\n",
       "                                         0.5555555555555554,\n",
       "                                         0.7777777777777777,\n",
       "                                         1.0]}})})})"
      ]
     },
     "execution_count": 28,
     "metadata": {},
     "output_type": "execute_result"
    }
   ],
   "source": [
    "d.md"
   ]
  },
  {
   "cell_type": "markdown",
   "metadata": {},
   "source": [
    "More about output files and metadata in the next part of the tutorial."
   ]
  }
 ],
 "metadata": {
  "kernelspec": {
   "display_name": "Python 3",
   "language": "python",
   "name": "python3"
  },
  "language_info": {
   "codemirror_mode": {
    "name": "ipython",
    "version": 3
   },
   "file_extension": ".py",
   "mimetype": "text/x-python",
   "name": "python",
   "nbconvert_exporter": "python",
   "pygments_lexer": "ipython3",
   "version": "3.6.7"
  }
 },
 "nbformat": 4,
 "nbformat_minor": 1
}
