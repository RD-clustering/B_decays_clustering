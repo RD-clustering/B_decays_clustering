{
 "cells": [
  {
   "cell_type": "markdown",
   "metadata": {},
   "source": [
    "# Tutorial 1: Basics\n",
    "\n",
    "This tutorial will talk about how to use this software from your own python project or Jupyter notebook.\n",
    "There is also a nice command line interface that enables you to do the same with just two lines in your command line.\n",
    "\n",
    "**NOTE FOR CONTRIBUTORS: Always clear all output before commiting (``Cell`` > ``All Output`` > ``Clear``)**!"
   ]
  },
  {
   "cell_type": "code",
   "execution_count": 1,
   "metadata": {},
   "outputs": [],
   "source": [
    "# Magic\n",
    "%matplotlib inline\n",
    "# Reload modules whenever they change\n",
    "%load_ext autoreload\n",
    "%autoreload 2\n",
    "\n",
    "# Make clusterking package available even without installation\n",
    "import sys\n",
    "sys.path = [\"../../\"] + sys.path\n",
    "\n",
    "import clusterking as ck"
   ]
  },
  {
   "cell_type": "markdown",
   "metadata": {},
   "source": [
    "## Scanning\n",
    "\n",
    "### Setting it up"
   ]
  },
  {
   "cell_type": "markdown",
   "metadata": {},
   "source": [
    "Let's set up a scanner object and configure it."
   ]
  },
  {
   "cell_type": "code",
   "execution_count": 2,
   "metadata": {},
   "outputs": [],
   "source": [
    "s = ck.scan.WilsonScanner()"
   ]
  },
  {
   "cell_type": "markdown",
   "metadata": {},
   "source": [
    "First we set up the function/distribution that we want to consider. Here we look into the branching ratio with respect to $q^2$ of $B\\to D \\,\\tau\\, \\bar\\nu_\\tau$. The function of the differential branching ration is taken from the flavio package (https://flav-io.github.io/). The $q^2$ binning is chose to have 9 bins between $(3.2 \\,\\text{GeV})^2$ and $(11.6\\,\\text{GeV})^2$ and is implemented as follows"
   ]
  },
  {
   "cell_type": "code",
   "execution_count": 3,
   "metadata": {},
   "outputs": [],
   "source": [
    "import flavio\n",
    "import numpy as np\n",
    "\n",
    "def dBrdq2(w, q):\n",
    "    return flavio.np_prediction(\"dBR/dq2(B+->Dtaunu)\", w, q)\n",
    "\n",
    "s.set_dfunction(\n",
    "    dBrdq2,\n",
    "    binning=np.linspace(3.2, 11.6, 10),\n",
    "    normalize=True\n",
    ")"
   ]
  },
  {
   "cell_type": "markdown",
   "metadata": {},
   "source": [
    "First, let's set up the Wilson coefficients that need to be sampled. The Wilson coefficients are implemented using the Wilson package (https://wilson-eft.github.io/), which allows to use a variety of bases, EFTs and matches them to user specified scales.\n",
    "Using the example of $B\\longrightarrow D \\tau \\bar\\nu_\\tau$, we sample the coefficients ``CVL_bctaunutau``, ``CSL_bctaunutau`` and ``CT_bctaunutau`` from the ``flavio`` basis (https://wcxf.github.io/assets/pdf/WET.flavio.pdf) with 10 points between $-1$ and $1$ at the scale of 5 GeV:"
   ]
  },
  {
   "cell_type": "code",
   "execution_count": 4,
   "metadata": {},
   "outputs": [],
   "source": [
    "s.set_spoints_equidist(\n",
    "    {\n",
    "        \"CVL_bctaunutau\": (-1, 1, 10),\n",
    "        \"CSL_bctaunutau\": (-1, 1, 10),\n",
    "        \"CT_bctaunutau\": (-1, 1, 10)\n",
    "    },\n",
    "    scale=5,\n",
    "    eft='WET',\n",
    "    basis='flavio'\n",
    ")"
   ]
  },
  {
   "cell_type": "markdown",
   "metadata": {},
   "source": [
    "### Running it"
   ]
  },
  {
   "cell_type": "code",
   "execution_count": 5,
   "metadata": {},
   "outputs": [],
   "source": [
    "d = ck.Data()"
   ]
  },
  {
   "cell_type": "code",
   "execution_count": 6,
   "metadata": {},
   "outputs": [
    {
     "name": "stderr",
     "output_type": "stream",
     "text": [
      "\u001b[32mScanner:INFO:Started queue with 1000 job(s) distributed over up to 8 core(s)/worker(s).\u001b[0m\n",
      "Scanning: 100%|████████████████████████| 1000/1000 [00:24<00:00, 40.07 spoint/s]\n",
      "\u001b[36mScanner:DEBUG:Converting data to pandas dataframe.\u001b[0m\n",
      "\u001b[32mScanner:INFO:Integration done.\u001b[0m\n"
     ]
    }
   ],
   "source": [
    "s.run(d)"
   ]
  },
  {
   "cell_type": "markdown",
   "metadata": {},
   "source": [
    "The results are saved in a dataframe, ``d.df``. Let's have a look:"
   ]
  },
  {
   "cell_type": "code",
   "execution_count": 7,
   "metadata": {
    "scrolled": false
   },
   "outputs": [
    {
     "data": {
      "text/html": [
       "<div>\n",
       "<style scoped>\n",
       "    .dataframe tbody tr th:only-of-type {\n",
       "        vertical-align: middle;\n",
       "    }\n",
       "\n",
       "    .dataframe tbody tr th {\n",
       "        vertical-align: top;\n",
       "    }\n",
       "\n",
       "    .dataframe thead th {\n",
       "        text-align: right;\n",
       "    }\n",
       "</style>\n",
       "<table border=\"1\" class=\"dataframe\">\n",
       "  <thead>\n",
       "    <tr style=\"text-align: right;\">\n",
       "      <th></th>\n",
       "      <th>CVL_bctaunutau</th>\n",
       "      <th>CSL_bctaunutau</th>\n",
       "      <th>CT_bctaunutau</th>\n",
       "      <th>bin0</th>\n",
       "      <th>bin1</th>\n",
       "      <th>bin2</th>\n",
       "      <th>bin3</th>\n",
       "      <th>bin4</th>\n",
       "      <th>bin5</th>\n",
       "      <th>bin6</th>\n",
       "      <th>bin7</th>\n",
       "      <th>bin8</th>\n",
       "    </tr>\n",
       "    <tr>\n",
       "      <th>index</th>\n",
       "      <th></th>\n",
       "      <th></th>\n",
       "      <th></th>\n",
       "      <th></th>\n",
       "      <th></th>\n",
       "      <th></th>\n",
       "      <th></th>\n",
       "      <th></th>\n",
       "      <th></th>\n",
       "      <th></th>\n",
       "      <th></th>\n",
       "      <th></th>\n",
       "    </tr>\n",
       "  </thead>\n",
       "  <tbody>\n",
       "    <tr>\n",
       "      <th>0</th>\n",
       "      <td>-1.0</td>\n",
       "      <td>-1.0</td>\n",
       "      <td>-1.000000</td>\n",
       "      <td>0.013125</td>\n",
       "      <td>0.058725</td>\n",
       "      <td>0.107860</td>\n",
       "      <td>0.146354</td>\n",
       "      <td>0.168836</td>\n",
       "      <td>0.172496</td>\n",
       "      <td>0.155692</td>\n",
       "      <td>0.117966</td>\n",
       "      <td>0.058947</td>\n",
       "    </tr>\n",
       "    <tr>\n",
       "      <th>1</th>\n",
       "      <td>-1.0</td>\n",
       "      <td>-1.0</td>\n",
       "      <td>-0.777778</td>\n",
       "      <td>0.011128</td>\n",
       "      <td>0.052279</td>\n",
       "      <td>0.100732</td>\n",
       "      <td>0.142333</td>\n",
       "      <td>0.169616</td>\n",
       "      <td>0.177547</td>\n",
       "      <td>0.162658</td>\n",
       "      <td>0.123440</td>\n",
       "      <td>0.060268</td>\n",
       "    </tr>\n",
       "    <tr>\n",
       "      <th>2</th>\n",
       "      <td>-1.0</td>\n",
       "      <td>-1.0</td>\n",
       "      <td>-0.555556</td>\n",
       "      <td>0.009775</td>\n",
       "      <td>0.046469</td>\n",
       "      <td>0.093154</td>\n",
       "      <td>0.137575</td>\n",
       "      <td>0.170368</td>\n",
       "      <td>0.183500</td>\n",
       "      <td>0.170686</td>\n",
       "      <td>0.128749</td>\n",
       "      <td>0.059724</td>\n",
       "    </tr>\n",
       "    <tr>\n",
       "      <th>3</th>\n",
       "      <td>-1.0</td>\n",
       "      <td>-1.0</td>\n",
       "      <td>-0.333333</td>\n",
       "      <td>0.013228</td>\n",
       "      <td>0.051945</td>\n",
       "      <td>0.094669</td>\n",
       "      <td>0.136531</td>\n",
       "      <td>0.169901</td>\n",
       "      <td>0.184716</td>\n",
       "      <td>0.171651</td>\n",
       "      <td>0.125580</td>\n",
       "      <td>0.051780</td>\n",
       "    </tr>\n",
       "    <tr>\n",
       "      <th>4</th>\n",
       "      <td>-1.0</td>\n",
       "      <td>-1.0</td>\n",
       "      <td>-0.111111</td>\n",
       "      <td>0.026508</td>\n",
       "      <td>0.085055</td>\n",
       "      <td>0.123471</td>\n",
       "      <td>0.149511</td>\n",
       "      <td>0.166231</td>\n",
       "      <td>0.168245</td>\n",
       "      <td>0.147711</td>\n",
       "      <td>0.100012</td>\n",
       "      <td>0.033255</td>\n",
       "    </tr>\n",
       "  </tbody>\n",
       "</table>\n",
       "</div>"
      ],
      "text/plain": [
       "       CVL_bctaunutau  CSL_bctaunutau  CT_bctaunutau      bin0      bin1  \\\n",
       "index                                                                      \n",
       "0                -1.0            -1.0      -1.000000  0.013125  0.058725   \n",
       "1                -1.0            -1.0      -0.777778  0.011128  0.052279   \n",
       "2                -1.0            -1.0      -0.555556  0.009775  0.046469   \n",
       "3                -1.0            -1.0      -0.333333  0.013228  0.051945   \n",
       "4                -1.0            -1.0      -0.111111  0.026508  0.085055   \n",
       "\n",
       "           bin2      bin3      bin4      bin5      bin6      bin7      bin8  \n",
       "index                                                                        \n",
       "0      0.107860  0.146354  0.168836  0.172496  0.155692  0.117966  0.058947  \n",
       "1      0.100732  0.142333  0.169616  0.177547  0.162658  0.123440  0.060268  \n",
       "2      0.093154  0.137575  0.170368  0.183500  0.170686  0.128749  0.059724  \n",
       "3      0.094669  0.136531  0.169901  0.184716  0.171651  0.125580  0.051780  \n",
       "4      0.123471  0.149511  0.166231  0.168245  0.147711  0.100012  0.033255  "
      ]
     },
     "execution_count": 7,
     "metadata": {},
     "output_type": "execute_result"
    }
   ],
   "source": [
    "d.df.head()"
   ]
  },
  {
   "cell_type": "markdown",
   "metadata": {},
   "source": [
    "## Clustering"
   ]
  },
  {
   "cell_type": "markdown",
   "metadata": {},
   "source": [
    "Let's build a hierarchy cluster out of the data object we created above."
   ]
  },
  {
   "cell_type": "code",
   "execution_count": 8,
   "metadata": {},
   "outputs": [],
   "source": [
    "c = ck.cluster.HierarchyCluster(d)"
   ]
  },
  {
   "cell_type": "markdown",
   "metadata": {},
   "source": [
    "First, we have to specify the metric we want to use to measure the distance between different distributions. If no argument is specified, the common $\\chi^2$ metric from is used."
   ]
  },
  {
   "cell_type": "code",
   "execution_count": 10,
   "metadata": {},
   "outputs": [],
   "source": [
    "c.set_metric()"
   ]
  },
  {
   "cell_type": "markdown",
   "metadata": {},
   "source": [
    "Let's build now the hierarchy cluster:"
   ]
  },
  {
   "cell_type": "code",
   "execution_count": 22,
   "metadata": {},
   "outputs": [
    {
     "name": "stderr",
     "output_type": "stream",
     "text": [
      "\u001b[36mScanner:DEBUG:Building hierarchy.\u001b[0m\n",
      "\u001b[36mScanner:DEBUG:Done\u001b[0m\n"
     ]
    }
   ],
   "source": [
    "c.build_hierarchy()"
   ]
  },
  {
   "cell_type": "markdown",
   "metadata": {},
   "source": [
    "The maximal distance between the individual clusters ``max_d`` can be chosen as follows:"
   ]
  },
  {
   "cell_type": "code",
   "execution_count": 29,
   "metadata": {
    "scrolled": true
   },
   "outputs": [
    {
     "name": "stderr",
     "output_type": "stream",
     "text": [
      "\u001b[32mScanner:INFO:Performing clustering.\u001b[0m\n",
      "\u001b[32mScanner:INFO:Clustering resulted in 4 get_clusters.\u001b[0m\n",
      "\u001b[32mScanner:INFO:Done\u001b[0m\n"
     ]
    }
   ],
   "source": [
    "c.cluster(max_d=0.15)"
   ]
  },
  {
   "cell_type": "markdown",
   "metadata": {},
   "source": [
    "Now we add the information about the clusters to the dataframe created above:"
   ]
  },
  {
   "cell_type": "code",
   "execution_count": 33,
   "metadata": {},
   "outputs": [],
   "source": [
    "c.write()"
   ]
  },
  {
   "cell_type": "markdown",
   "metadata": {},
   "source": [
    "Let's take a look and notice the new column ``cluster`` at the end of the data frame:"
   ]
  },
  {
   "cell_type": "code",
   "execution_count": 34,
   "metadata": {},
   "outputs": [
    {
     "data": {
      "text/html": [
       "<div>\n",
       "<style scoped>\n",
       "    .dataframe tbody tr th:only-of-type {\n",
       "        vertical-align: middle;\n",
       "    }\n",
       "\n",
       "    .dataframe tbody tr th {\n",
       "        vertical-align: top;\n",
       "    }\n",
       "\n",
       "    .dataframe thead th {\n",
       "        text-align: right;\n",
       "    }\n",
       "</style>\n",
       "<table border=\"1\" class=\"dataframe\">\n",
       "  <thead>\n",
       "    <tr style=\"text-align: right;\">\n",
       "      <th></th>\n",
       "      <th>CVL_bctaunutau</th>\n",
       "      <th>CSL_bctaunutau</th>\n",
       "      <th>CT_bctaunutau</th>\n",
       "      <th>bin0</th>\n",
       "      <th>bin1</th>\n",
       "      <th>bin2</th>\n",
       "      <th>bin3</th>\n",
       "      <th>bin4</th>\n",
       "      <th>bin5</th>\n",
       "      <th>bin6</th>\n",
       "      <th>bin7</th>\n",
       "      <th>bin8</th>\n",
       "      <th>cluster</th>\n",
       "      <th>bpoint</th>\n",
       "    </tr>\n",
       "    <tr>\n",
       "      <th>index</th>\n",
       "      <th></th>\n",
       "      <th></th>\n",
       "      <th></th>\n",
       "      <th></th>\n",
       "      <th></th>\n",
       "      <th></th>\n",
       "      <th></th>\n",
       "      <th></th>\n",
       "      <th></th>\n",
       "      <th></th>\n",
       "      <th></th>\n",
       "      <th></th>\n",
       "      <th></th>\n",
       "      <th></th>\n",
       "    </tr>\n",
       "  </thead>\n",
       "  <tbody>\n",
       "    <tr>\n",
       "      <th>0</th>\n",
       "      <td>-1.0</td>\n",
       "      <td>-1.0</td>\n",
       "      <td>-1.000000</td>\n",
       "      <td>0.013125</td>\n",
       "      <td>0.058725</td>\n",
       "      <td>0.107860</td>\n",
       "      <td>0.146354</td>\n",
       "      <td>0.168836</td>\n",
       "      <td>0.172496</td>\n",
       "      <td>0.155692</td>\n",
       "      <td>0.117966</td>\n",
       "      <td>0.058947</td>\n",
       "      <td>0</td>\n",
       "      <td>False</td>\n",
       "    </tr>\n",
       "    <tr>\n",
       "      <th>1</th>\n",
       "      <td>-1.0</td>\n",
       "      <td>-1.0</td>\n",
       "      <td>-0.777778</td>\n",
       "      <td>0.011128</td>\n",
       "      <td>0.052279</td>\n",
       "      <td>0.100732</td>\n",
       "      <td>0.142333</td>\n",
       "      <td>0.169616</td>\n",
       "      <td>0.177547</td>\n",
       "      <td>0.162658</td>\n",
       "      <td>0.123440</td>\n",
       "      <td>0.060268</td>\n",
       "      <td>0</td>\n",
       "      <td>False</td>\n",
       "    </tr>\n",
       "    <tr>\n",
       "      <th>2</th>\n",
       "      <td>-1.0</td>\n",
       "      <td>-1.0</td>\n",
       "      <td>-0.555556</td>\n",
       "      <td>0.009775</td>\n",
       "      <td>0.046469</td>\n",
       "      <td>0.093154</td>\n",
       "      <td>0.137575</td>\n",
       "      <td>0.170368</td>\n",
       "      <td>0.183500</td>\n",
       "      <td>0.170686</td>\n",
       "      <td>0.128749</td>\n",
       "      <td>0.059724</td>\n",
       "      <td>0</td>\n",
       "      <td>False</td>\n",
       "    </tr>\n",
       "    <tr>\n",
       "      <th>3</th>\n",
       "      <td>-1.0</td>\n",
       "      <td>-1.0</td>\n",
       "      <td>-0.333333</td>\n",
       "      <td>0.013228</td>\n",
       "      <td>0.051945</td>\n",
       "      <td>0.094669</td>\n",
       "      <td>0.136531</td>\n",
       "      <td>0.169901</td>\n",
       "      <td>0.184716</td>\n",
       "      <td>0.171651</td>\n",
       "      <td>0.125580</td>\n",
       "      <td>0.051780</td>\n",
       "      <td>0</td>\n",
       "      <td>False</td>\n",
       "    </tr>\n",
       "    <tr>\n",
       "      <th>4</th>\n",
       "      <td>-1.0</td>\n",
       "      <td>-1.0</td>\n",
       "      <td>-0.111111</td>\n",
       "      <td>0.026508</td>\n",
       "      <td>0.085055</td>\n",
       "      <td>0.123471</td>\n",
       "      <td>0.149511</td>\n",
       "      <td>0.166231</td>\n",
       "      <td>0.168245</td>\n",
       "      <td>0.147711</td>\n",
       "      <td>0.100012</td>\n",
       "      <td>0.033255</td>\n",
       "      <td>0</td>\n",
       "      <td>False</td>\n",
       "    </tr>\n",
       "  </tbody>\n",
       "</table>\n",
       "</div>"
      ],
      "text/plain": [
       "       CVL_bctaunutau  CSL_bctaunutau  CT_bctaunutau      bin0      bin1  \\\n",
       "index                                                                      \n",
       "0                -1.0            -1.0      -1.000000  0.013125  0.058725   \n",
       "1                -1.0            -1.0      -0.777778  0.011128  0.052279   \n",
       "2                -1.0            -1.0      -0.555556  0.009775  0.046469   \n",
       "3                -1.0            -1.0      -0.333333  0.013228  0.051945   \n",
       "4                -1.0            -1.0      -0.111111  0.026508  0.085055   \n",
       "\n",
       "           bin2      bin3      bin4      bin5      bin6      bin7      bin8  \\\n",
       "index                                                                         \n",
       "0      0.107860  0.146354  0.168836  0.172496  0.155692  0.117966  0.058947   \n",
       "1      0.100732  0.142333  0.169616  0.177547  0.162658  0.123440  0.060268   \n",
       "2      0.093154  0.137575  0.170368  0.183500  0.170686  0.128749  0.059724   \n",
       "3      0.094669  0.136531  0.169901  0.184716  0.171651  0.125580  0.051780   \n",
       "4      0.123471  0.149511  0.166231  0.168245  0.147711  0.100012  0.033255   \n",
       "\n",
       "       cluster  bpoint  \n",
       "index                   \n",
       "0            0   False  \n",
       "1            0   False  \n",
       "2            0   False  \n",
       "3            0   False  \n",
       "4            0   False  "
      ]
     },
     "execution_count": 34,
     "metadata": {},
     "output_type": "execute_result"
    }
   ],
   "source": [
    "d.df.head()"
   ]
  },
  {
   "cell_type": "markdown",
   "metadata": {},
   "source": [
    "## Selecting benchmark points"
   ]
  },
  {
   "cell_type": "markdown",
   "metadata": {},
   "source": [
    "In a similar way we can determine the benchmark points representing the individual clusters. Initializing a benchmark point object"
   ]
  },
  {
   "cell_type": "code",
   "execution_count": 35,
   "metadata": {},
   "outputs": [],
   "source": [
    "b = ck.Benchmark(d)"
   ]
  },
  {
   "cell_type": "markdown",
   "metadata": {},
   "source": [
    "and again choosing a metric ($\\chi^2$ metric is default)"
   ]
  },
  {
   "cell_type": "code",
   "execution_count": 16,
   "metadata": {},
   "outputs": [],
   "source": [
    "b.set_metric()"
   ]
  },
  {
   "cell_type": "markdown",
   "metadata": {},
   "source": [
    "the benchmark points can be computed"
   ]
  },
  {
   "cell_type": "code",
   "execution_count": 17,
   "metadata": {},
   "outputs": [],
   "source": [
    "b.select_bpoints()"
   ]
  },
  {
   "cell_type": "markdown",
   "metadata": {},
   "source": [
    "and written in the dataframe:"
   ]
  },
  {
   "cell_type": "code",
   "execution_count": 36,
   "metadata": {},
   "outputs": [],
   "source": [
    "b.write()"
   ]
  },
  {
   "cell_type": "markdown",
   "metadata": {},
   "source": [
    "Let's take a look and notice the new column ``bpoint`` at the end of the data frame:"
   ]
  },
  {
   "cell_type": "code",
   "execution_count": 37,
   "metadata": {},
   "outputs": [
    {
     "data": {
      "text/html": [
       "<div>\n",
       "<style scoped>\n",
       "    .dataframe tbody tr th:only-of-type {\n",
       "        vertical-align: middle;\n",
       "    }\n",
       "\n",
       "    .dataframe tbody tr th {\n",
       "        vertical-align: top;\n",
       "    }\n",
       "\n",
       "    .dataframe thead th {\n",
       "        text-align: right;\n",
       "    }\n",
       "</style>\n",
       "<table border=\"1\" class=\"dataframe\">\n",
       "  <thead>\n",
       "    <tr style=\"text-align: right;\">\n",
       "      <th></th>\n",
       "      <th>CVL_bctaunutau</th>\n",
       "      <th>CSL_bctaunutau</th>\n",
       "      <th>CT_bctaunutau</th>\n",
       "      <th>bin0</th>\n",
       "      <th>bin1</th>\n",
       "      <th>bin2</th>\n",
       "      <th>bin3</th>\n",
       "      <th>bin4</th>\n",
       "      <th>bin5</th>\n",
       "      <th>bin6</th>\n",
       "      <th>bin7</th>\n",
       "      <th>bin8</th>\n",
       "      <th>cluster</th>\n",
       "      <th>bpoint</th>\n",
       "    </tr>\n",
       "    <tr>\n",
       "      <th>index</th>\n",
       "      <th></th>\n",
       "      <th></th>\n",
       "      <th></th>\n",
       "      <th></th>\n",
       "      <th></th>\n",
       "      <th></th>\n",
       "      <th></th>\n",
       "      <th></th>\n",
       "      <th></th>\n",
       "      <th></th>\n",
       "      <th></th>\n",
       "      <th></th>\n",
       "      <th></th>\n",
       "      <th></th>\n",
       "    </tr>\n",
       "  </thead>\n",
       "  <tbody>\n",
       "    <tr>\n",
       "      <th>0</th>\n",
       "      <td>-1.0</td>\n",
       "      <td>-1.0</td>\n",
       "      <td>-1.000000</td>\n",
       "      <td>0.013125</td>\n",
       "      <td>0.058725</td>\n",
       "      <td>0.107860</td>\n",
       "      <td>0.146354</td>\n",
       "      <td>0.168836</td>\n",
       "      <td>0.172496</td>\n",
       "      <td>0.155692</td>\n",
       "      <td>0.117966</td>\n",
       "      <td>0.058947</td>\n",
       "      <td>0</td>\n",
       "      <td>None</td>\n",
       "    </tr>\n",
       "    <tr>\n",
       "      <th>1</th>\n",
       "      <td>-1.0</td>\n",
       "      <td>-1.0</td>\n",
       "      <td>-0.777778</td>\n",
       "      <td>0.011128</td>\n",
       "      <td>0.052279</td>\n",
       "      <td>0.100732</td>\n",
       "      <td>0.142333</td>\n",
       "      <td>0.169616</td>\n",
       "      <td>0.177547</td>\n",
       "      <td>0.162658</td>\n",
       "      <td>0.123440</td>\n",
       "      <td>0.060268</td>\n",
       "      <td>0</td>\n",
       "      <td>None</td>\n",
       "    </tr>\n",
       "    <tr>\n",
       "      <th>2</th>\n",
       "      <td>-1.0</td>\n",
       "      <td>-1.0</td>\n",
       "      <td>-0.555556</td>\n",
       "      <td>0.009775</td>\n",
       "      <td>0.046469</td>\n",
       "      <td>0.093154</td>\n",
       "      <td>0.137575</td>\n",
       "      <td>0.170368</td>\n",
       "      <td>0.183500</td>\n",
       "      <td>0.170686</td>\n",
       "      <td>0.128749</td>\n",
       "      <td>0.059724</td>\n",
       "      <td>0</td>\n",
       "      <td>None</td>\n",
       "    </tr>\n",
       "    <tr>\n",
       "      <th>3</th>\n",
       "      <td>-1.0</td>\n",
       "      <td>-1.0</td>\n",
       "      <td>-0.333333</td>\n",
       "      <td>0.013228</td>\n",
       "      <td>0.051945</td>\n",
       "      <td>0.094669</td>\n",
       "      <td>0.136531</td>\n",
       "      <td>0.169901</td>\n",
       "      <td>0.184716</td>\n",
       "      <td>0.171651</td>\n",
       "      <td>0.125580</td>\n",
       "      <td>0.051780</td>\n",
       "      <td>0</td>\n",
       "      <td>None</td>\n",
       "    </tr>\n",
       "    <tr>\n",
       "      <th>4</th>\n",
       "      <td>-1.0</td>\n",
       "      <td>-1.0</td>\n",
       "      <td>-0.111111</td>\n",
       "      <td>0.026508</td>\n",
       "      <td>0.085055</td>\n",
       "      <td>0.123471</td>\n",
       "      <td>0.149511</td>\n",
       "      <td>0.166231</td>\n",
       "      <td>0.168245</td>\n",
       "      <td>0.147711</td>\n",
       "      <td>0.100012</td>\n",
       "      <td>0.033255</td>\n",
       "      <td>0</td>\n",
       "      <td>None</td>\n",
       "    </tr>\n",
       "  </tbody>\n",
       "</table>\n",
       "</div>"
      ],
      "text/plain": [
       "       CVL_bctaunutau  CSL_bctaunutau  CT_bctaunutau      bin0      bin1  \\\n",
       "index                                                                      \n",
       "0                -1.0            -1.0      -1.000000  0.013125  0.058725   \n",
       "1                -1.0            -1.0      -0.777778  0.011128  0.052279   \n",
       "2                -1.0            -1.0      -0.555556  0.009775  0.046469   \n",
       "3                -1.0            -1.0      -0.333333  0.013228  0.051945   \n",
       "4                -1.0            -1.0      -0.111111  0.026508  0.085055   \n",
       "\n",
       "           bin2      bin3      bin4      bin5      bin6      bin7      bin8  \\\n",
       "index                                                                         \n",
       "0      0.107860  0.146354  0.168836  0.172496  0.155692  0.117966  0.058947   \n",
       "1      0.100732  0.142333  0.169616  0.177547  0.162658  0.123440  0.060268   \n",
       "2      0.093154  0.137575  0.170368  0.183500  0.170686  0.128749  0.059724   \n",
       "3      0.094669  0.136531  0.169901  0.184716  0.171651  0.125580  0.051780   \n",
       "4      0.123471  0.149511  0.166231  0.168245  0.147711  0.100012  0.033255   \n",
       "\n",
       "       cluster bpoint  \n",
       "index                  \n",
       "0            0   None  \n",
       "1            0   None  \n",
       "2            0   None  \n",
       "3            0   None  \n",
       "4            0   None  "
      ]
     },
     "execution_count": 37,
     "metadata": {},
     "output_type": "execute_result"
    }
   ],
   "source": [
    "d.df.head()"
   ]
  },
  {
   "cell_type": "markdown",
   "metadata": {},
   "source": [
    "## Preserving results"
   ]
  },
  {
   "cell_type": "markdown",
   "metadata": {},
   "source": [
    "Now it's time to write out the results for later use."
   ]
  },
  {
   "cell_type": "code",
   "execution_count": 20,
   "metadata": {},
   "outputs": [
    {
     "name": "stderr",
     "output_type": "stream",
     "text": [
      "\u001b[32mDFMD:INFO:Will write dataframe to 'output/cluster/tutorial_basics_data.csv'.\u001b[0m\n",
      "\u001b[36mDFMD:DEBUG:Done\u001b[0m\n",
      "\u001b[32mDFMD:INFO:Will write metadata to 'output/cluster/tutorial_basics_metadata.json'.\u001b[0m\n",
      "\u001b[36mDFMD:DEBUG:Done\u001b[0m\n"
     ]
    }
   ],
   "source": [
    "d.write(\"output/cluster\", \"tutorial_basics\", overwrite=\"overwrite\")"
   ]
  },
  {
   "cell_type": "markdown",
   "metadata": {},
   "source": [
    "This will not only write out the data itself, but also a lot of associated metadata that makes it easy to later reconstruct what the data actually represents. This was accumulated in the attribute ``d.md`` over all steps:"
   ]
  },
  {
   "cell_type": "code",
   "execution_count": 21,
   "metadata": {},
   "outputs": [
    {
     "data": {
      "text/plain": [
       "defaultdict(<function clusterking.util.metadata.nested_dict>,\n",
       "            {'bpoint': defaultdict(<function clusterking.util.metadata.nested_dict>,\n",
       "                         {'bpoint': defaultdict(<function clusterking.util.metadata.nested_dict>,\n",
       "                                      {'cluster_column': 'cluster',\n",
       "                                       'metric': defaultdict(<function clusterking.util.metadata.nested_dict>,\n",
       "                                                   {'args': [],\n",
       "                                                    'kwargs': {}})})}),\n",
       "             'cluster': defaultdict(<function clusterking.util.metadata.nested_dict>,\n",
       "                         {'cluster': defaultdict(<function clusterking.util.metadata.nested_dict>,\n",
       "                                      {'cluster_args': {'max_d': 0.2},\n",
       "                                       'git': {'branch': 'HEAD',\n",
       "                                        'msg': 'added test file',\n",
       "                                        'sha': '3620206ddfae02c7419e4733a402e45d1039f908',\n",
       "                                        'time': 'Fri 12 Apr 2019 14:41'},\n",
       "                                       'hierarchy': defaultdict(<function clusterking.util.metadata.nested_dict>,\n",
       "                                                   {'method': 'complete',\n",
       "                                                    'optimal_ordering': False}),\n",
       "                                       'metric': defaultdict(<function clusterking.util.metadata.nested_dict>,\n",
       "                                                   {'args': [], 'kwargs': {}}),\n",
       "                                       'n_clusters': 3,\n",
       "                                       'time': 'Fri 12 Apr 2019 15:00'})}),\n",
       "             'scan': defaultdict(<function clusterking.util.metadata.nested_dict>,\n",
       "                         {'dfunction': defaultdict(<function clusterking.util.metadata.nested_dict>,\n",
       "                                      {'doc': None,\n",
       "                                       'kwargs': {},\n",
       "                                       'name': 'dBrdq2',\n",
       "                                       'nbins': 9}),\n",
       "                          'git': {'branch': 'HEAD',\n",
       "                           'msg': 'added test file',\n",
       "                           'sha': '3620206ddfae02c7419e4733a402e45d1039f908',\n",
       "                           'time': 'Fri 12 Apr 2019 14:41'},\n",
       "                          'spoints': defaultdict(<function clusterking.util.metadata.nested_dict>,\n",
       "                                      {'basis': 'flavio',\n",
       "                                       'coeffs': ['CVL_bctaunutau',\n",
       "                                        'CSL_bctaunutau',\n",
       "                                        'CT_bctaunutau'],\n",
       "                                       'eft': 'WET',\n",
       "                                       'ranges': {'CSL_bctaunutau': (-1,\n",
       "                                         1,\n",
       "                                         10),\n",
       "                                        'CT_bctaunutau': (-1, 1, 10),\n",
       "                                        'CVL_bctaunutau': (-1, 1, 10)},\n",
       "                                       'sampling': 'equidistant',\n",
       "                                       'scale': 5,\n",
       "                                       'values': {'CSL_bctaunutau': [-1.0,\n",
       "                                         -0.7777777777777778,\n",
       "                                         -0.5555555555555556,\n",
       "                                         -0.33333333333333337,\n",
       "                                         -0.11111111111111116,\n",
       "                                         0.11111111111111116,\n",
       "                                         0.33333333333333326,\n",
       "                                         0.5555555555555554,\n",
       "                                         0.7777777777777777,\n",
       "                                         1.0],\n",
       "                                        'CT_bctaunutau': [-1.0,\n",
       "                                         -0.7777777777777778,\n",
       "                                         -0.5555555555555556,\n",
       "                                         -0.33333333333333337,\n",
       "                                         -0.11111111111111116,\n",
       "                                         0.11111111111111116,\n",
       "                                         0.33333333333333326,\n",
       "                                         0.5555555555555554,\n",
       "                                         0.7777777777777777,\n",
       "                                         1.0],\n",
       "                                        'CVL_bctaunutau': [-1.0,\n",
       "                                         -0.7777777777777778,\n",
       "                                         -0.5555555555555556,\n",
       "                                         -0.33333333333333337,\n",
       "                                         -0.11111111111111116,\n",
       "                                         0.11111111111111116,\n",
       "                                         0.33333333333333326,\n",
       "                                         0.5555555555555554,\n",
       "                                         0.7777777777777777,\n",
       "                                         1.0]}}),\n",
       "                          'time': 'Fri 12 Apr 2019 14:59'})})"
      ]
     },
     "execution_count": 21,
     "metadata": {},
     "output_type": "execute_result"
    }
   ],
   "source": [
    "d.md"
   ]
  }
 ],
 "metadata": {
  "kernelspec": {
   "display_name": "Python 3",
   "language": "python",
   "name": "python3"
  },
  "language_info": {
   "codemirror_mode": {
    "name": "ipython",
    "version": 3
   },
   "file_extension": ".py",
   "mimetype": "text/x-python",
   "name": "python",
   "nbconvert_exporter": "python",
   "pygments_lexer": "ipython3",
   "version": "3.6.7"
  }
 },
 "nbformat": 4,
 "nbformat_minor": 1
}
